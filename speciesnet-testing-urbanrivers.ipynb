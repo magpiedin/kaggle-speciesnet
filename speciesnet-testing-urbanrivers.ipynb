{
 "cells": [
  {
   "cell_type": "markdown",
   "id": "405a57bd",
   "metadata": {
    "papermill": {
     "duration": 0.004009,
     "end_time": "2025-05-19T17:14:01.027493",
     "exception": false,
     "start_time": "2025-05-19T17:14:01.023484",
     "status": "completed"
    },
    "tags": []
   },
   "source": [
    "## Notebook Setup and Required Packages"
   ]
  },
  {
   "cell_type": "code",
   "execution_count": 1,
   "id": "b61a82ba",
   "metadata": {
    "execution": {
     "iopub.execute_input": "2025-05-19T17:14:01.035458Z",
     "iopub.status.busy": "2025-05-19T17:14:01.034896Z",
     "iopub.status.idle": "2025-05-19T17:16:18.077443Z",
     "shell.execute_reply": "2025-05-19T17:16:18.076833Z"
    },
    "papermill": {
     "duration": 137.048166,
     "end_time": "2025-05-19T17:16:18.078975",
     "exception": false,
     "start_time": "2025-05-19T17:14:01.030809",
     "status": "completed"
    },
    "tags": []
   },
   "outputs": [
    {
     "name": "stdout",
     "output_type": "stream",
     "text": [
      "\u001b[2K     \u001b[90m━━━━━━━━━━━━━━━━━━━━━━━━━━━━━━━━━━━━━━━━\u001b[0m \u001b[32m43.3/43.3 kB\u001b[0m \u001b[31m2.2 MB/s\u001b[0m eta \u001b[36m0:00:00\u001b[0m\r\n",
      "\u001b[2K     \u001b[90m━━━━━━━━━━━━━━━━━━━━━━━━━━━━━━━━━━━━━━━━\u001b[0m \u001b[32m2.2/2.2 MB\u001b[0m \u001b[31m47.1 MB/s\u001b[0m eta \u001b[36m0:00:00\u001b[0m\r\n",
      "\u001b[?25h  Preparing metadata (setup.py) ... \u001b[?25l\u001b[?25hdone\r\n",
      "  Preparing metadata (setup.py) ... \u001b[?25l\u001b[?25hdone\r\n",
      "\u001b[2K     \u001b[90m━━━━━━━━━━━━━━━━━━━━━━━━━━━━━━━━━━━━━━━━\u001b[0m \u001b[32m87.2/87.2 kB\u001b[0m \u001b[31m6.0 MB/s\u001b[0m eta \u001b[36m0:00:00\u001b[0m\r\n",
      "\u001b[?25h  Preparing metadata (setup.py) ... \u001b[?25l\u001b[?25hdone\r\n",
      "\u001b[2K   \u001b[90m━━━━━━━━━━━━━━━━━━━━━━━━━━━━━━━━━━━━━━━━\u001b[0m \u001b[32m93.7/93.7 kB\u001b[0m \u001b[31m6.3 MB/s\u001b[0m eta \u001b[36m0:00:00\u001b[0m\r\n",
      "\u001b[2K   \u001b[90m━━━━━━━━━━━━━━━━━━━━━━━━━━━━━━━━━━━━━━━━\u001b[0m \u001b[32m791.3/791.3 kB\u001b[0m \u001b[31m44.5 MB/s\u001b[0m eta \u001b[36m0:00:00\u001b[0m\r\n",
      "\u001b[2K   \u001b[90m━━━━━━━━━━━━━━━━━━━━━━━━━━━━━━━━━━━━━━━━\u001b[0m \u001b[32m86.8/86.8 kB\u001b[0m \u001b[31m6.3 MB/s\u001b[0m eta \u001b[36m0:00:00\u001b[0m\r\n",
      "\u001b[2K   \u001b[90m━━━━━━━━━━━━━━━━━━━━━━━━━━━━━━━━━━━━━━━━\u001b[0m \u001b[32m8.6/8.6 MB\u001b[0m \u001b[31m101.9 MB/s\u001b[0m eta \u001b[36m0:00:00\u001b[0m\r\n",
      "\u001b[2K   \u001b[90m━━━━━━━━━━━━━━━━━━━━━━━━━━━━━━━━━━━━━━━━\u001b[0m \u001b[32m13.5/13.5 MB\u001b[0m \u001b[31m95.5 MB/s\u001b[0m eta \u001b[36m0:00:00\u001b[0m\r\n",
      "\u001b[2K   \u001b[90m━━━━━━━━━━━━━━━━━━━━━━━━━━━━━━━━━━━━━━━━\u001b[0m \u001b[32m363.4/363.4 MB\u001b[0m \u001b[31m4.6 MB/s\u001b[0m eta \u001b[36m0:00:00\u001b[0m\r\n",
      "\u001b[2K   \u001b[90m━━━━━━━━━━━━━━━━━━━━━━━━━━━━━━━━━━━━━━━━\u001b[0m \u001b[32m664.8/664.8 MB\u001b[0m \u001b[31m2.5 MB/s\u001b[0m eta \u001b[36m0:00:00\u001b[0m\r\n",
      "\u001b[2K   \u001b[90m━━━━━━━━━━━━━━━━━━━━━━━━━━━━━━━━━━━━━━━━\u001b[0m \u001b[32m211.5/211.5 MB\u001b[0m \u001b[31m6.3 MB/s\u001b[0m eta \u001b[36m0:00:00\u001b[0m\r\n",
      "\u001b[2K   \u001b[90m━━━━━━━━━━━━━━━━━━━━━━━━━━━━━━━━━━━━━━━━\u001b[0m \u001b[32m56.3/56.3 MB\u001b[0m \u001b[31m27.7 MB/s\u001b[0m eta \u001b[36m0:00:00\u001b[0m\r\n",
      "\u001b[2K   \u001b[90m━━━━━━━━━━━━━━━━━━━━━━━━━━━━━━━━━━━━━━━━\u001b[0m \u001b[32m127.9/127.9 MB\u001b[0m \u001b[31m13.2 MB/s\u001b[0m eta \u001b[36m0:00:00\u001b[0m\r\n",
      "\u001b[2K   \u001b[90m━━━━━━━━━━━━━━━━━━━━━━━━━━━━━━━━━━━━━━━━\u001b[0m \u001b[32m207.5/207.5 MB\u001b[0m \u001b[31m2.0 MB/s\u001b[0m eta \u001b[36m0:00:00\u001b[0m\r\n",
      "\u001b[2K   \u001b[90m━━━━━━━━━━━━━━━━━━━━━━━━━━━━━━━━━━━━━━━━\u001b[0m \u001b[32m21.1/21.1 MB\u001b[0m \u001b[31m8.0 MB/s\u001b[0m eta \u001b[36m0:00:00\u001b[0m\r\n",
      "\u001b[2K   \u001b[90m━━━━━━━━━━━━━━━━━━━━━━━━━━━━━━━━━━━━━━━━\u001b[0m \u001b[32m956.3/956.3 kB\u001b[0m \u001b[31m38.0 MB/s\u001b[0m eta \u001b[36m0:00:00\u001b[0m\r\n",
      "\u001b[2K   \u001b[90m━━━━━━━━━━━━━━━━━━━━━━━━━━━━━━━━━━━━━━━━\u001b[0m \u001b[32m81.0/81.0 kB\u001b[0m \u001b[31m6.3 MB/s\u001b[0m eta \u001b[36m0:00:00\u001b[0m\r\n",
      "\u001b[2K   \u001b[90m━━━━━━━━━━━━━━━━━━━━━━━━━━━━━━━━━━━━━━━━\u001b[0m \u001b[32m85.4/85.4 kB\u001b[0m \u001b[31m5.7 MB/s\u001b[0m eta \u001b[36m0:00:00\u001b[0m\r\n",
      "\u001b[2K   \u001b[90m━━━━━━━━━━━━━━━━━━━━━━━━━━━━━━━━━━━━━━━━\u001b[0m \u001b[32m66.8/66.8 kB\u001b[0m \u001b[31m4.1 MB/s\u001b[0m eta \u001b[36m0:00:00\u001b[0m\r\n",
      "\u001b[2K   \u001b[90m━━━━━━━━━━━━━━━━━━━━━━━━━━━━━━━━━━━━━━━━\u001b[0m \u001b[32m49.9/49.9 MB\u001b[0m \u001b[31m32.3 MB/s\u001b[0m eta \u001b[36m0:00:00\u001b[0m\r\n",
      "\u001b[2K   \u001b[90m━━━━━━━━━━━━━━━━━━━━━━━━━━━━━━━━━━━━━━━━\u001b[0m \u001b[32m114.7/114.7 kB\u001b[0m \u001b[31m9.1 MB/s\u001b[0m eta \u001b[36m0:00:00\u001b[0m\r\n",
      "\u001b[2K   \u001b[90m━━━━━━━━━━━━━━━━━━━━━━━━━━━━━━━━━━━━━━━━\u001b[0m \u001b[32m62.5/62.5 MB\u001b[0m \u001b[31m26.6 MB/s\u001b[0m eta \u001b[36m0:00:00\u001b[0m\r\n",
      "\u001b[2K   \u001b[90m━━━━━━━━━━━━━━━━━━━━━━━━━━━━━━━━━━━━━━━━\u001b[0m \u001b[32m7.8/7.8 MB\u001b[0m \u001b[31m83.0 MB/s\u001b[0m eta \u001b[36m0:00:00\u001b[0m\r\n",
      "\u001b[?25h  Building wheel for pyqtree (setup.py) ... \u001b[?25l\u001b[?25hdone\r\n",
      "  Building wheel for reverse_geocoder (setup.py) ... \u001b[?25l\u001b[?25hdone\r\n",
      "  Building wheel for fire (setup.py) ... \u001b[?25l\u001b[?25hdone\r\n",
      "\u001b[31mERROR: pip's dependency resolver does not currently take into account all the packages that are installed. This behaviour is the source of the following dependency conflicts.\r\n",
      "datasets 3.6.0 requires fsspec[http]<=2025.3.0,>=2023.1.0, but you have fsspec 2025.3.2 which is incompatible.\r\n",
      "ydata-profiling 4.16.1 requires matplotlib<=3.10,>=3.5, but you have matplotlib 3.10.3 which is incompatible.\r\n",
      "category-encoders 2.7.0 requires scikit-learn<1.6.0,>=1.0.0, but you have scikit-learn 1.6.1 which is incompatible.\r\n",
      "cesium 0.12.4 requires numpy<3.0,>=2.0, but you have numpy 1.26.4 which is incompatible.\r\n",
      "google-colab 1.0.0 requires google-auth==2.38.0, but you have google-auth 2.40.1 which is incompatible.\r\n",
      "google-colab 1.0.0 requires notebook==6.5.7, but you have notebook 6.5.4 which is incompatible.\r\n",
      "google-colab 1.0.0 requires pandas==2.2.2, but you have pandas 2.2.3 which is incompatible.\r\n",
      "dopamine-rl 4.1.2 requires gymnasium>=1.0.0, but you have gymnasium 0.29.0 which is incompatible.\r\n",
      "bigframes 1.42.0 requires rich<14,>=12.4.4, but you have rich 14.0.0 which is incompatible.\r\n",
      "google-spark-connect 0.5.2 requires google-api-core>=2.19.1, but you have google-api-core 1.34.1 which is incompatible.\r\n",
      "google-cloud-bigtable 2.30.0 requires google-api-core[grpc]<3.0.0,>=2.16.0, but you have google-api-core 1.34.1 which is incompatible.\r\n",
      "google-cloud-storage 2.19.0 requires google-api-core<3.0.0dev,>=2.15.0, but you have google-api-core 1.34.1 which is incompatible.\r\n",
      "pandas-gbq 0.28.0 requires google-api-core<3.0.0dev,>=2.10.2, but you have google-api-core 1.34.1 which is incompatible.\u001b[0m\u001b[31m\r\n",
      "\u001b[0m"
     ]
    }
   ],
   "source": [
    "# Data Handling\n",
    "import pandas as pd\n",
    "import numpy as np\n",
    "\n",
    "# IO - getting files and images from MongoDB and S3\n",
    "from pymongo import MongoClient\n",
    "from kaggle_secrets import UserSecretsClient\n",
    "import requests\n",
    "\n",
    "from concurrent.futures import ThreadPoolExecutor\n",
    "\n",
    "from pathlib import Path\n",
    "from PIL import Image\n",
    "from io import BytesIO\n",
    "\n",
    "import os\n",
    "import re\n",
    "import shutil\n",
    "import json\n",
    "import time\n",
    "\n",
    "# Install speciesnet and related megadetector libraries\n",
    "!pip install -Uqq speciesnet megadetector-utils\n",
    "\n",
    "from IPython.display import display\n",
    "from IPython.display import JSON\n",
    "\n",
    "from speciesnet import SpeciesNet\n",
    "import kagglehub\n",
    "\n"
   ]
  },
  {
   "cell_type": "code",
   "execution_count": 2,
   "id": "1bf78125",
   "metadata": {
    "execution": {
     "iopub.execute_input": "2025-05-19T17:16:18.134806Z",
     "iopub.status.busy": "2025-05-19T17:16:18.134361Z",
     "iopub.status.idle": "2025-05-19T17:16:33.923108Z",
     "shell.execute_reply": "2025-05-19T17:16:33.922295Z"
    },
    "papermill": {
     "duration": 15.818037,
     "end_time": "2025-05-19T17:16:33.924493",
     "exception": false,
     "start_time": "2025-05-19T17:16:18.106456",
     "status": "completed"
    },
    "tags": []
   },
   "outputs": [
    {
     "name": "stdout",
     "output_type": "stream",
     "text": [
      "*** Running Torch tests ***\r\n",
      "\r\n",
      "Torch version: 2.6.0+cu124\r\n",
      "CUDA available (according to PyTorch): True\r\n",
      "CUDA version (according to PyTorch): 12.4\r\n",
      "CuDNN version (according to PyTorch): 90100\r\n",
      "Found 1 CUDA devices:\r\n",
      "0: Tesla P100-PCIE-16GB\r\n"
     ]
    }
   ],
   "source": [
    "# Run a quick check to see if the GPU is being used\n",
    "!python -m speciesnet.scripts.gpu_test"
   ]
  },
  {
   "cell_type": "code",
   "execution_count": 3,
   "id": "cd108e6d",
   "metadata": {
    "execution": {
     "iopub.execute_input": "2025-05-19T17:16:33.981057Z",
     "iopub.status.busy": "2025-05-19T17:16:33.980771Z",
     "iopub.status.idle": "2025-05-19T17:16:33.985904Z",
     "shell.execute_reply": "2025-05-19T17:16:33.985177Z"
    },
    "papermill": {
     "duration": 0.034685,
     "end_time": "2025-05-19T17:16:33.987086",
     "exception": false,
     "start_time": "2025-05-19T17:16:33.952401",
     "status": "completed"
    },
    "tags": []
   },
   "outputs": [],
   "source": [
    "# Configuration for Multithreading and Batching\n",
    "num_batches = 10\n",
    "max_threads = 8\n",
    "output_root = Path(\"output\")\n",
    "\n",
    "# Prepare folders\n",
    "output_root.mkdir(exist_ok=True)\n",
    "images_root = Path(\"images\")\n",
    "images_root.mkdir(exist_ok=True)"
   ]
  },
  {
   "cell_type": "markdown",
   "id": "56c20b4c",
   "metadata": {
    "papermill": {
     "duration": 0.026666,
     "end_time": "2025-05-19T17:16:34.041873",
     "exception": false,
     "start_time": "2025-05-19T17:16:34.015207",
     "status": "completed"
    },
    "tags": []
   },
   "source": [
    "## Access The URIs from S3 through MongoDB"
   ]
  },
  {
   "cell_type": "code",
   "execution_count": 4,
   "id": "fdd433b3",
   "metadata": {
    "execution": {
     "iopub.execute_input": "2025-05-19T17:16:34.146382Z",
     "iopub.status.busy": "2025-05-19T17:16:34.145693Z",
     "iopub.status.idle": "2025-05-19T17:16:37.606192Z",
     "shell.execute_reply": "2025-05-19T17:16:37.605579Z"
    },
    "papermill": {
     "duration": 3.538844,
     "end_time": "2025-05-19T17:16:37.607699",
     "exception": false,
     "start_time": "2025-05-19T17:16:34.068855",
     "status": "completed"
    },
    "tags": []
   },
   "outputs": [],
   "source": [
    "# Get the stored mongo uri secret\n",
    "user_secrets = UserSecretsClient()\n",
    "mongo_uri = user_secrets.get_secret(\"MONGO_URI\")\n",
    "\n",
    "# Connect to the MongoDB client\n",
    "client = MongoClient(mongo_uri)\n",
    " \n",
    "# Access the database and collection\n",
    "db = client['test']\n",
    "collection = db['cameratrapmedias'] \n",
    " \n",
    "# Query the collection to retrieve records with image URLs, metadata, and the first index of 'relativePath'\n",
    "data = list(collection.aggregate([\n",
    "    {\n",
    "        '$project': {\n",
    "            '_id': 0,\n",
    "            'publicURL': 1,\n",
    "            'timestamp': 1,\n",
    "            'folderName': { '$arrayElemAt': ['$relativePath', 1] },\n",
    "            'fileName': 1\n",
    "        }\n",
    "    },\n",
    "    # { '$limit': 150 }\n",
    "]))\n",
    " \n",
    "# Convert the data to a pandas DataFrame for exploration\n",
    "df = pd.DataFrame(data)\n",
    "\n",
    "# Export the small array to a CSV file for preview\n",
    "df.to_csv('ur_test_medias.csv', index=False)"
   ]
  },
  {
   "cell_type": "markdown",
   "id": "f61ceda2",
   "metadata": {
    "papermill": {
     "duration": 0.02709,
     "end_time": "2025-05-19T17:16:37.663209",
     "exception": false,
     "start_time": "2025-05-19T17:16:37.636119",
     "status": "completed"
    },
    "tags": []
   },
   "source": [
    "## We are going to create a column that creates a file name to save the image"
   ]
  },
  {
   "cell_type": "code",
   "execution_count": 5,
   "id": "f8bdb0a6",
   "metadata": {
    "execution": {
     "iopub.execute_input": "2025-05-19T17:16:37.719130Z",
     "iopub.status.busy": "2025-05-19T17:16:37.718437Z",
     "iopub.status.idle": "2025-05-19T17:16:38.003520Z",
     "shell.execute_reply": "2025-05-19T17:16:38.002642Z"
    },
    "papermill": {
     "duration": 0.314414,
     "end_time": "2025-05-19T17:16:38.004778",
     "exception": false,
     "start_time": "2025-05-19T17:16:37.690364",
     "status": "completed"
    },
    "tags": []
   },
   "outputs": [
    {
     "name": "stdout",
     "output_type": "stream",
     "text": [
      "            timestamp                                          publicURL  \\\n",
      "0 2024-01-27 13:33:15  https://urbanriverrangers.s3.amazonaws.com/ima...   \n",
      "1 2024-01-24 18:56:50  https://urbanriverrangers.s3.amazonaws.com/ima...   \n",
      "2 2024-01-24 19:01:54  https://urbanriverrangers.s3.amazonaws.com/ima...   \n",
      "3 2024-01-24 19:03:05  https://urbanriverrangers.s3.amazonaws.com/ima...   \n",
      "4 2024-01-24 19:04:19  https://urbanriverrangers.s3.amazonaws.com/ima...   \n",
      "\n",
      "       fileName                               folderName  \\\n",
      "0  SYFW0060.JPG                   2024-01-30_prologis_02   \n",
      "1  SYFW0001.JPG  2024-01-30_Learnin_platform_camera_test   \n",
      "2  SYFW0002.JPG  2024-01-30_Learnin_platform_camera_test   \n",
      "3  SYFW0004.JPG  2024-01-30_Learnin_platform_camera_test   \n",
      "4  SYFW0006.JPG  2024-01-30_Learnin_platform_camera_test   \n",
      "\n",
      "                                           imageName  \n",
      "0               2024-01-30_prologis_02--SYFW0060.JPG  \n",
      "1  2024-01-30_Learnin_platform_camera_test--SYFW0...  \n",
      "2  2024-01-30_Learnin_platform_camera_test--SYFW0...  \n",
      "3  2024-01-30_Learnin_platform_camera_test--SYFW0...  \n",
      "4  2024-01-30_Learnin_platform_camera_test--SYFW0...  \n"
     ]
    }
   ],
   "source": [
    "# This function will format the final string\n",
    "def make_filename(s):\n",
    "    # s = s.lower()\n",
    "    s = re.sub(r'[^\\w\\s.-]', '', s) # remove special characters except dash or underscore or period\n",
    "    s = re.sub(r'\\s+', '_', s) # replace whitespace with underscore\n",
    "    return s\n",
    "\n",
    "# Combine the relative path second (folder name) + fileName\n",
    "df['imageName'] = df['folderName'] + '--' + df['fileName']\n",
    "df['imageName'] = df['imageName'].apply(make_filename)\n",
    "\n",
    "print(df.head())"
   ]
  },
  {
   "cell_type": "markdown",
   "id": "c65cfc3d",
   "metadata": {
    "papermill": {
     "duration": 0.027554,
     "end_time": "2025-05-19T17:16:38.060908",
     "exception": false,
     "start_time": "2025-05-19T17:16:38.033354",
     "status": "completed"
    },
    "tags": []
   },
   "source": [
    "Now that we have a connection to the MongoDB server and access to the URLs, let's use the download images."
   ]
  },
  {
   "cell_type": "markdown",
   "id": "37c1e3f0",
   "metadata": {
    "papermill": {
     "duration": 0.026753,
     "end_time": "2025-05-19T17:16:38.115218",
     "exception": false,
     "start_time": "2025-05-19T17:16:38.088465",
     "status": "completed"
    },
    "tags": []
   },
   "source": [
    "## Download Images"
   ]
  },
  {
   "cell_type": "code",
   "execution_count": 6,
   "id": "7d1d59d4",
   "metadata": {
    "_kg_hide-output": true,
    "execution": {
     "iopub.execute_input": "2025-05-19T17:16:38.170782Z",
     "iopub.status.busy": "2025-05-19T17:16:38.170486Z",
     "iopub.status.idle": "2025-05-19T17:35:28.304890Z",
     "shell.execute_reply": "2025-05-19T17:35:28.304099Z"
    },
    "papermill": {
     "duration": 1130.195165,
     "end_time": "2025-05-19T17:35:28.337657",
     "exception": false,
     "start_time": "2025-05-19T17:16:38.142492",
     "status": "completed"
    },
    "tags": []
   },
   "outputs": [
    {
     "name": "stdout",
     "output_type": "stream",
     "text": [
      "Processing batch 1 / 10 with 1000 images...\n"
     ]
    },
    {
     "name": "stderr",
     "output_type": "stream",
     "text": [
      "/usr/local/lib/python3.11/dist-packages/numpy/core/fromnumeric.py:59: FutureWarning: 'DataFrame.swapaxes' is deprecated and will be removed in a future version. Please use 'DataFrame.transpose' instead.\n",
      "  return bound(*args, **kwds)\n"
     ]
    },
    {
     "name": "stdout",
     "output_type": "stream",
     "text": [
      "Batch 1 took 147.78 seconds.\n",
      "Processing batch 2 / 10 with 1000 images...\n",
      "Batch 2 took 141.51 seconds.\n",
      "Processing batch 3 / 10 with 1000 images...\n",
      "Batch 3 took 105.12 seconds.\n",
      "Processing batch 4 / 10 with 1000 images...\n",
      "Batch 4 took 97.89 seconds.\n",
      "Processing batch 5 / 10 with 1000 images...\n",
      "Batch 5 took 103.34 seconds.\n",
      "Processing batch 6 / 10 with 1000 images...\n",
      "Batch 6 took 110.88 seconds.\n",
      "Processing batch 7 / 10 with 1000 images...\n",
      "Batch 7 took 109.34 seconds.\n",
      "Processing batch 8 / 10 with 1000 images...\n",
      "Batch 8 took 99.15 seconds.\n",
      "Processing batch 9 / 10 with 1000 images...\n",
      "Batch 9 took 108.07 seconds.\n",
      "Processing batch 10 / 10 with 1000 images...\n",
      "Batch 10 took 107.05 seconds.\n",
      "10000 Images Downloaded and Resized\n",
      "CPU times: user 39min 42s, sys: 5min 21s, total: 45min 3s\n",
      "Wall time: 18min 50s\n"
     ]
    }
   ],
   "source": [
    "%%time\n",
    "# Create a directory to save the images\n",
    "output_root.mkdir(exist_ok=True)\n",
    "path = Path('images')\n",
    "path.mkdir(exist_ok=True)\n",
    "\n",
    "# Create a tool for resizing so cropping top and bottom can happen while keeping the aspect ratio\n",
    "def resize_to_height(image, target_height=256):\n",
    "    og_width, og_height = image.size\n",
    "    new_width = int(og_width * (target_height / og_height))\n",
    "    return image.resize((new_width, target_height))\n",
    "\n",
    "# Create a tool for downloading and processing images\n",
    "def process_row(row, dest_folder):\n",
    "    url = row['publicURL']\n",
    "    filename = row['imageName']\n",
    "    # Download the image\n",
    "    dest = dest_folder/filename\n",
    "\n",
    "    try:\n",
    "        # Download image to memory\n",
    "        response = requests.get(url)\n",
    "        response.raise_for_status()\n",
    "\n",
    "        # Open and process the image\n",
    "        image = Image.open(BytesIO(response.content)).convert(\"RGB\")\n",
    "        image = resize_to_height(image, target_height=256)\n",
    "        image.save(dest, format=\"JPEG\", quality=85)\n",
    "        \n",
    "    except Exception as e:\n",
    "        print(f\"failed to process{filename}: {e}\")\n",
    "\n",
    "# Download and display some images where at least an animal was found - ex rat\n",
    "df_test = df[44410:44910] # 500 images with some known animal detections\n",
    "df_big_chunk = df[0:10000] # first 10000 images\n",
    "\n",
    "# Process Batches\n",
    "for batch_idx, df_chunk in enumerate(np.array_split(df_big_chunk, num_batches)): # change to df_test to split a test batch size\n",
    "    batch_folder = images_root / f'batch_{batch_idx}'\n",
    "    batch_folder.mkdir(exist_ok=True)\n",
    "\n",
    "    print(f'Processing batch {batch_idx + 1} / {num_batches} with {len(df_chunk)} images...')\n",
    "\n",
    "    start = time.time()\n",
    "    \n",
    "    with ThreadPoolExecutor(max_workers=max_threads) as executor:\n",
    "        executor.map(lambda row: process_row(row, batch_folder), [row for _, row in df_chunk.iterrows()])\n",
    "\n",
    "    end = time.time()\n",
    "    print(f\"Batch {batch_idx+1} took {end - start:.2f} seconds.\")\n",
    "        \n",
    "print(f'{len(df_big_chunk)} Images Downloaded and Resized')"
   ]
  },
  {
   "cell_type": "code",
   "execution_count": 7,
   "id": "48850c4c",
   "metadata": {
    "execution": {
     "iopub.execute_input": "2025-05-19T17:35:28.395896Z",
     "iopub.status.busy": "2025-05-19T17:35:28.395423Z",
     "iopub.status.idle": "2025-05-19T17:35:28.398775Z",
     "shell.execute_reply": "2025-05-19T17:35:28.398116Z"
    },
    "papermill": {
     "duration": 0.033664,
     "end_time": "2025-05-19T17:35:28.399924",
     "exception": false,
     "start_time": "2025-05-19T17:35:28.366260",
     "status": "completed"
    },
    "tags": []
   },
   "outputs": [],
   "source": [
    "# Uncomment and run this if the images need to be redone\n",
    "# !rm images -r\n",
    "# !rm docs.zip\n",
    "# %lsmagic"
   ]
  },
  {
   "cell_type": "markdown",
   "id": "ec1c07a4",
   "metadata": {
    "papermill": {
     "duration": 0.027872,
     "end_time": "2025-05-19T17:35:28.456459",
     "exception": false,
     "start_time": "2025-05-19T17:35:28.428587",
     "status": "completed"
    },
    "tags": []
   },
   "source": [
    "## Running Species Net on the Full Dataset\n",
    "Now that we have the max number of images downloaded (19.5GB) let's run speciesnet\n",
    "\n",
    "Note there might be a better way of doing this using bytes downloaded from s3 - but I haven't figured that part out yet.\n",
    "\n",
    "### We're going to try a multithreading chunks approach"
   ]
  },
  {
   "cell_type": "code",
   "execution_count": 8,
   "id": "83ae8d71",
   "metadata": {
    "execution": {
     "iopub.execute_input": "2025-05-19T17:35:28.514881Z",
     "iopub.status.busy": "2025-05-19T17:35:28.514601Z",
     "iopub.status.idle": "2025-05-19T17:35:28.518489Z",
     "shell.execute_reply": "2025-05-19T17:35:28.517960Z"
    },
    "papermill": {
     "duration": 0.034224,
     "end_time": "2025-05-19T17:35:28.519591",
     "exception": false,
     "start_time": "2025-05-19T17:35:28.485367",
     "status": "completed"
    },
    "tags": []
   },
   "outputs": [],
   "source": [
    "def print_predictions(predictions_dict: dict) -> None:\n",
    "    print(\"Predictions:\")\n",
    "    for prediction in predictions_dict[\"predictions\"][0:1]:\n",
    "        print(prediction[\"filepath\"], \"=>\", prediction[\"prediction\"])"
   ]
  },
  {
   "cell_type": "markdown",
   "id": "aff0bb34",
   "metadata": {
    "papermill": {
     "duration": 0.028795,
     "end_time": "2025-05-19T17:35:28.576661",
     "exception": false,
     "start_time": "2025-05-19T17:35:28.547866",
     "status": "completed"
    },
    "tags": []
   },
   "source": [
    "### Download Model"
   ]
  },
  {
   "cell_type": "code",
   "execution_count": 9,
   "id": "6866ff0b",
   "metadata": {
    "execution": {
     "iopub.execute_input": "2025-05-19T17:35:28.635642Z",
     "iopub.status.busy": "2025-05-19T17:35:28.634939Z",
     "iopub.status.idle": "2025-05-19T17:35:31.796054Z",
     "shell.execute_reply": "2025-05-19T17:35:31.795221Z"
    },
    "papermill": {
     "duration": 3.192,
     "end_time": "2025-05-19T17:35:31.797383",
     "exception": false,
     "start_time": "2025-05-19T17:35:28.605383",
     "status": "completed"
    },
    "tags": []
   },
   "outputs": [
    {
     "name": "stdout",
     "output_type": "stream",
     "text": [
      "Model downloaded to temporary folder: /kaggle/input/speciesnet/pytorch/v4.0.1a/1\n",
      "6 files copied to: /content/models\n"
     ]
    }
   ],
   "source": [
    "# Choose the folder we're going to download the model to\n",
    "model_path = '/content/models'\n",
    "os.makedirs(model_path, exist_ok=True)\n",
    "\n",
    "# Download the model (it will go to a folder like /kaggle/input/...)\n",
    "download_path = kagglehub.model_download('google/speciesnet/PyTorch/v4.0.1a',\n",
    "                                          force_download=True)\n",
    "\n",
    "print('Model downloaded to temporary folder: {}'.format(download_path))\n",
    "\n",
    "# List the contents of the downloaded directory to identify the actual files/subdirectories\n",
    "model_files = os.listdir(download_path)\n",
    "\n",
    "# Copy the contents of the model file to our destination folder\n",
    "for item_name in model_files:\n",
    "    source_path = os.path.join(download_path, item_name)\n",
    "    destination_path = os.path.join(model_path, item_name)\n",
    "    if os.path.isfile(source_path):\n",
    "        shutil.copy2(source_path, destination_path)\n",
    "    elif os.path.isdir(source_path):\n",
    "        shutil.copytree(source_path, destination_path, dirs_exist_ok=True)\n",
    "\n",
    "print('{} files copied to: {}'.format(len(model_files),model_path))"
   ]
  },
  {
   "cell_type": "code",
   "execution_count": 10,
   "id": "95bb0ec3",
   "metadata": {
    "execution": {
     "iopub.execute_input": "2025-05-19T17:35:31.869046Z",
     "iopub.status.busy": "2025-05-19T17:35:31.868515Z",
     "iopub.status.idle": "2025-05-19T17:35:36.467784Z",
     "shell.execute_reply": "2025-05-19T17:35:36.467083Z"
    },
    "papermill": {
     "duration": 4.634402,
     "end_time": "2025-05-19T17:35:36.469035",
     "exception": false,
     "start_time": "2025-05-19T17:35:31.834633",
     "status": "completed"
    },
    "tags": []
   },
   "outputs": [
    {
     "name": "stdout",
     "output_type": "stream",
     "text": [
      "Model Loaded\n"
     ]
    }
   ],
   "source": [
    "# Pick the model we want to use (4.0.1a)\n",
    "model = SpeciesNet(model_path)\n",
    "\n",
    "print('Model Loaded')"
   ]
  },
  {
   "cell_type": "code",
   "execution_count": 11,
   "id": "91143101",
   "metadata": {
    "execution": {
     "iopub.execute_input": "2025-05-19T17:35:36.528479Z",
     "iopub.status.busy": "2025-05-19T17:35:36.527826Z",
     "iopub.status.idle": "2025-05-19T17:52:18.725692Z",
     "shell.execute_reply": "2025-05-19T17:52:18.724903Z"
    },
    "papermill": {
     "duration": 1002.258079,
     "end_time": "2025-05-19T17:52:18.756783",
     "exception": false,
     "start_time": "2025-05-19T17:35:36.498704",
     "status": "completed"
    },
    "tags": []
   },
   "outputs": [
    {
     "name": "stdout",
     "output_type": "stream",
     "text": [
      "{'filepath': 'images/batch_0/2024-02-01_16-41-42--SYEW0714.JPG', 'latitude': 41.906782, 'longitude': -87.651927}\n",
      "CPU times: user 3min 53s, sys: 2.08 s, total: 3min 55s\n",
      "Wall time: 1min 54s\n",
      "Predictions:\n",
      "images/batch_0/2024-02-01_16-41-42--SYEW0714.JPG => f1856211-cfb7-4a5b-9158-c0f72fd09ee6;;;;;;blank\n",
      "predictions_dict_0.json saved to images/batch_0\n",
      "{'filepath': 'images/batch_1/2024-02-01_Bubbly_003--SYFW0159.JPG', 'latitude': 41.906782, 'longitude': -87.651927}\n",
      "CPU times: user 3min 55s, sys: 2.48 s, total: 3min 58s\n",
      "Wall time: 1min 55s\n",
      "Predictions:\n",
      "images/batch_1/2024-02-01_Bubbly_003--SYFW0159.JPG => f1856211-cfb7-4a5b-9158-c0f72fd09ee6;;;;;;blank\n",
      "predictions_dict_1.json saved to images/batch_1\n",
      "{'filepath': 'images/batch_2/2024-02-01_Bubbly_spypoint_garden--HDPH0624.JPG', 'latitude': 41.906782, 'longitude': -87.651927}\n",
      "CPU times: user 3min 16s, sys: 1.86 s, total: 3min 17s\n",
      "Wall time: 1min 36s\n",
      "Predictions:\n",
      "images/batch_2/2024-02-01_Bubbly_spypoint_garden--HDPH0624.JPG => f1856211-cfb7-4a5b-9158-c0f72fd09ee6;;;;;;blank\n",
      "predictions_dict_2.json saved to images/batch_2\n",
      "{'filepath': 'images/batch_3/2024-02-01_Bubbly_spypoint_garden--HDPH1906.JPG', 'latitude': 41.906782, 'longitude': -87.651927}\n",
      "CPU times: user 3min 16s, sys: 1.34 s, total: 3min 17s\n",
      "Wall time: 1min 36s\n",
      "Predictions:\n",
      "images/batch_3/2024-02-01_Bubbly_spypoint_garden--HDPH1906.JPG => f1856211-cfb7-4a5b-9158-c0f72fd09ee6;;;;;;blank\n",
      "predictions_dict_3.json saved to images/batch_3\n",
      "{'filepath': 'images/batch_4/2024-02-01_Bubbly_spypoint_garden--HDPH2601.JPG', 'latitude': 41.906782, 'longitude': -87.651927}\n",
      "CPU times: user 3min 17s, sys: 1.54 s, total: 3min 18s\n",
      "Wall time: 1min 36s\n",
      "Predictions:\n",
      "images/batch_4/2024-02-01_Bubbly_spypoint_garden--HDPH2601.JPG => f1856211-cfb7-4a5b-9158-c0f72fd09ee6;;;;;;blank\n",
      "predictions_dict_4.json saved to images/batch_4\n",
      "{'filepath': 'images/batch_5/2024-02-01_Bubbly_spypoint_garden--HDPH3885.JPG', 'latitude': 41.906782, 'longitude': -87.651927}\n",
      "CPU times: user 3min 17s, sys: 1.64 s, total: 3min 19s\n",
      "Wall time: 1min 36s\n",
      "Predictions:\n",
      "images/batch_5/2024-02-01_Bubbly_spypoint_garden--HDPH3885.JPG => f1856211-cfb7-4a5b-9158-c0f72fd09ee6;;;;;;blank\n",
      "predictions_dict_5.json saved to images/batch_5\n",
      "{'filepath': 'images/batch_6/2024-02-01_Bubbly_spypoint_garden--HDPH4477.JPG', 'latitude': 41.906782, 'longitude': -87.651927}\n",
      "CPU times: user 3min 17s, sys: 1.41 s, total: 3min 19s\n",
      "Wall time: 1min 36s\n",
      "Predictions:\n",
      "images/batch_6/2024-02-01_Bubbly_spypoint_garden--HDPH4477.JPG => f1856211-cfb7-4a5b-9158-c0f72fd09ee6;;;;;;blank\n",
      "predictions_dict_6.json saved to images/batch_6\n",
      "{'filepath': 'images/batch_7/2024-02-01_Bubbly_spypoint_garden--HDPH5538.JPG', 'latitude': 41.906782, 'longitude': -87.651927}\n",
      "CPU times: user 3min 15s, sys: 1.52 s, total: 3min 16s\n",
      "Wall time: 1min 35s\n",
      "Predictions:\n",
      "images/batch_7/2024-02-01_Bubbly_spypoint_garden--HDPH5538.JPG => f1856211-cfb7-4a5b-9158-c0f72fd09ee6;;;;;;blank\n",
      "predictions_dict_7.json saved to images/batch_7\n",
      "{'filepath': 'images/batch_8/2024-02-01_Bubbly_spypoint_garden--HDPH6913.JPG', 'latitude': 41.906782, 'longitude': -87.651927}\n",
      "CPU times: user 3min 17s, sys: 1.49 s, total: 3min 18s\n",
      "Wall time: 1min 36s\n",
      "Predictions:\n",
      "images/batch_8/2024-02-01_Bubbly_spypoint_garden--HDPH6913.JPG => f1856211-cfb7-4a5b-9158-c0f72fd09ee6;;;;;;blank\n",
      "predictions_dict_8.json saved to images/batch_8\n",
      "{'filepath': 'images/batch_9/2024-02-01_Bubbly_spypoint_garden--HDPH7396.JPG', 'latitude': 41.906782, 'longitude': -87.651927}\n",
      "CPU times: user 3min 17s, sys: 1.57 s, total: 3min 18s\n",
      "Wall time: 1min 36s\n",
      "Predictions:\n",
      "images/batch_9/2024-02-01_Bubbly_spypoint_garden--HDPH7396.JPG => f1856211-cfb7-4a5b-9158-c0f72fd09ee6;;;;;;blank\n",
      "predictions_dict_9.json saved to images/batch_9\n"
     ]
    }
   ],
   "source": [
    "# Let's format a request string as a list of dicts (aka JSON string format)\n",
    "def create_instances(batch_folder):\n",
    "    image_paths = [f'{batch_folder}/{f}' for f in os.listdir(batch_folder) if f.lower().endswith('.jpg')]\n",
    "\n",
    "    instances = []\n",
    "    for image_path in image_paths:\n",
    "        instances.append({\n",
    "            'filepath': image_path,\n",
    "            'latitude': 41.906782,\n",
    "            'longitude': -87.651927\n",
    "        })\n",
    "\n",
    "    # Check that it's saved correctly by verifying the first\n",
    "    print(instances[0])\n",
    "\n",
    "    return instances\n",
    "\n",
    "\n",
    "for batch_index in range(len(os.listdir(images_root))):\n",
    "    instances = create_instances(f'{images_root}/batch_{batch_index}')\n",
    "\n",
    "    # make the predictions and get a sense of how long it would take\n",
    "    %time predictions_dict = model.predict(instances_dict={\"instances\": instances})\n",
    "\n",
    "    print_predictions(predictions_dict) # show the first prediction of each batch\n",
    "\n",
    "    # Save the dict to the batch folder\n",
    "    with open(f'{images_root}/batch_{batch_index}/predictions_dict_{batch_index}.json', 'w') as f:\n",
    "        json.dump(predictions_dict, f, indent=2)\n",
    "\n",
    "    print(f'predictions_dict_{batch_index}.json saved to {images_root}/batch_{batch_index}')"
   ]
  },
  {
   "cell_type": "code",
   "execution_count": 12,
   "id": "9e7f19d8",
   "metadata": {
    "execution": {
     "iopub.execute_input": "2025-05-19T17:52:18.814105Z",
     "iopub.status.busy": "2025-05-19T17:52:18.813847Z",
     "iopub.status.idle": "2025-05-19T17:52:19.363654Z",
     "shell.execute_reply": "2025-05-19T17:52:19.362922Z"
    },
    "papermill": {
     "duration": 0.579942,
     "end_time": "2025-05-19T17:52:19.364908",
     "exception": false,
     "start_time": "2025-05-19T17:52:18.784966",
     "status": "completed"
    },
    "tags": []
   },
   "outputs": [
    {
     "name": "stdout",
     "output_type": "stream",
     "text": [
      "Combined 9976 predictions into output/predictions_dict_master.json\n"
     ]
    }
   ],
   "source": [
    "# To concatenate all the json files\n",
    "output_file = output_root / \"predictions_dict_master.json\"\n",
    "\n",
    "# Initialize the master predictions list\n",
    "master_predictions = []\n",
    "\n",
    "# Loop through files matching the pattern\n",
    "for json_file in sorted(images_root.glob(\"batch_*/predictions_dict_*.json\")):\n",
    "    with open(json_file, \"r\") as f:\n",
    "        data = json.load(f)\n",
    "        if \"predictions\" in data:\n",
    "            master_predictions.extend(data[\"predictions\"])  # Concatenate predictions!\n",
    "        else:\n",
    "            print(f\"{json_file} missing 'predictions' key\")\n",
    "\n",
    "# Write the combined predictions to a new file\n",
    "with open(output_file, \"w\") as f:\n",
    "    json.dump({\"predictions\": master_predictions}, f, indent=2)\n",
    "\n",
    "print(f\"Combined {len(master_predictions)} predictions into {output_file}\")\n"
   ]
  },
  {
   "cell_type": "markdown",
   "id": "a88322dd",
   "metadata": {
    "papermill": {
     "duration": 0.028166,
     "end_time": "2025-05-19T17:52:19.422844",
     "exception": false,
     "start_time": "2025-05-19T17:52:19.394678",
     "status": "completed"
    },
    "tags": []
   },
   "source": [
    "## Let's save the predictions dict json file"
   ]
  },
  {
   "cell_type": "code",
   "execution_count": 13,
   "id": "d3b2ff3c",
   "metadata": {
    "execution": {
     "iopub.execute_input": "2025-05-19T17:52:19.482457Z",
     "iopub.status.busy": "2025-05-19T17:52:19.482152Z",
     "iopub.status.idle": "2025-05-19T17:54:15.462835Z",
     "shell.execute_reply": "2025-05-19T17:54:15.462055Z"
    },
    "papermill": {
     "duration": 116.012959,
     "end_time": "2025-05-19T17:54:15.464303",
     "exception": false,
     "start_time": "2025-05-19T17:52:19.451344",
     "status": "completed"
    },
    "tags": []
   },
   "outputs": [
    {
     "name": "stdout",
     "output_type": "stream",
     "text": [
      "Loading results from /kaggle/working/output/predictions_dict_master.json\r\n",
      "This appears to be a SpeciesNet output file, converting to MD format\r\n",
      "Writing temporary results to /tmp/megadetector_temp_files/036851ec-34da-11f0-ab64-0242ac130202.json\r\n",
      "Warning: creating fake detection for non-blank whole-image classification\r\n",
      "Converting results to dataframe\r\n",
      "Finished loading MegaDetector results for 9976 images from /kaggle/working/output/predictions_dict_master.json\r\n",
      "Assigning images to rendering categories\r\n",
      "100%|████████████████████████████████████| 9976/9976 [00:00<00:00, 28220.03it/s]\r\n",
      "Finished loading and preprocessing 9976 rows from detector output, predicted 265 positives.\r\n",
      "100%|███████████████████████████████████████| 9976/9976 [01:50<00:00, 90.24it/s]\r\n",
      "Rendered 9976 images (of 9976) in 1 minute and 50.55 seconds (0.01 seconds per image)\r\n",
      "Generating classification category report\r\n",
      "This appears to be a SpeciesNet output file, converting to MD format\r\n",
      "Writing temporary results to /tmp/megadetector_temp_files/46a34d40-34da-11f0-ab64-0242ac130202.json\r\n",
      "Warning: creating fake detection for non-blank whole-image classification\r\n",
      "Finished writing html to /kaggle/working/output/docs/index.html\r\n"
     ]
    }
   ],
   "source": [
    "# Create a docs folder for previewing the images\n",
    "output_path = '/kaggle/working/output/docs'\n",
    "os.makedirs(output_path, exist_ok=True)\n",
    "\n",
    "!python -m megadetector.postprocessing.postprocess_batch_results /kaggle/working/output/predictions_dict_master.json /kaggle/working/output/docs --num_images_to_sample -1 --confidence_threshold 0.5"
   ]
  },
  {
   "cell_type": "markdown",
   "id": "0941b88e",
   "metadata": {
    "papermill": {
     "duration": 0.069016,
     "end_time": "2025-05-19T17:54:15.603454",
     "exception": false,
     "start_time": "2025-05-19T17:54:15.534438",
     "status": "completed"
    },
    "tags": []
   },
   "source": [
    "## Let's zip the folder so we can easily download it"
   ]
  },
  {
   "cell_type": "code",
   "execution_count": 14,
   "id": "9f77135f",
   "metadata": {
    "execution": {
     "iopub.execute_input": "2025-05-19T17:54:15.743162Z",
     "iopub.status.busy": "2025-05-19T17:54:15.742864Z",
     "iopub.status.idle": "2025-05-19T17:54:41.654835Z",
     "shell.execute_reply": "2025-05-19T17:54:41.653969Z"
    },
    "papermill": {
     "duration": 25.983768,
     "end_time": "2025-05-19T17:54:41.656340",
     "exception": false,
     "start_time": "2025-05-19T17:54:15.672572",
     "status": "completed"
    },
    "tags": []
   },
   "outputs": [],
   "source": [
    "shutil.make_archive('/kaggle/working/output/docs', 'zip', '/kaggle/working/output/docs')\n",
    "\n",
    "# and finally clean up the tree that made it this far\n",
    "shutil.rmtree('/kaggle/working/output/docs')  # Deletes the folder\n"
   ]
  }
 ],
 "metadata": {
  "kaggle": {
   "accelerator": "gpu",
   "dataSources": [
    {
     "modelId": 247762,
     "modelInstanceId": 291118,
     "sourceId": 348614,
     "sourceType": "modelInstanceVersion"
    }
   ],
   "isGpuEnabled": true,
   "isInternetEnabled": true,
   "language": "python",
   "sourceType": "notebook"
  },
  "kernelspec": {
   "display_name": "Python 3",
   "language": "python",
   "name": "python3"
  },
  "language_info": {
   "codemirror_mode": {
    "name": "ipython",
    "version": 3
   },
   "file_extension": ".py",
   "mimetype": "text/x-python",
   "name": "python",
   "nbconvert_exporter": "python",
   "pygments_lexer": "ipython3",
   "version": "3.11.11"
  },
  "papermill": {
   "default_parameters": {},
   "duration": 2447.602104,
   "end_time": "2025-05-19T17:54:44.546868",
   "environment_variables": {},
   "exception": null,
   "input_path": "__notebook__.ipynb",
   "output_path": "__notebook__.ipynb",
   "parameters": {},
   "start_time": "2025-05-19T17:13:56.944764",
   "version": "2.6.0"
  }
 },
 "nbformat": 4,
 "nbformat_minor": 5
}
