{
 "cells": [
  {
   "cell_type": "markdown",
   "id": "0807486f",
   "metadata": {},
   "source": [
    "# Introduction\n",
    "Urban Rivers is a conservation organization helping to restore the Chicago River.  \n",
    "\n",
    "Part of the project involves tracking changes in biodiversity attributable to the installation of floating wetlands.  \n",
    "Volunteers have placed and maintain motion detection cameras (camera traps) along installations, natural river banks, and the existing metal retaining walls on the water way.\n",
    "\n",
    "These pictures are available on s3 - this code investigates downloading a portion of those images for testing with SpeciesNet.\n",
    "\n",
    "This workbook was used for detections using Kaggle's GPUs and is linked therein.  \n",
    "https://www.kaggle.com/code/morescope/speciesnet-testing-urbanrivers"
   ]
  },
  {
   "cell_type": "markdown",
   "id": "fde8f6e2",
   "metadata": {
    "papermill": {
     "duration": 0.003793,
     "end_time": "2025-05-19T19:22:53.568317",
     "exception": false,
     "start_time": "2025-05-19T19:22:53.564524",
     "status": "completed"
    },
    "tags": []
   },
   "source": [
    "## Notebook Setup and Required Packages"
   ]
  },
  {
   "cell_type": "code",
   "execution_count": 1,
   "id": "6178647d",
   "metadata": {
    "execution": {
     "iopub.execute_input": "2025-05-19T19:22:53.575483Z",
     "iopub.status.busy": "2025-05-19T19:22:53.575275Z",
     "iopub.status.idle": "2025-05-19T19:25:18.249349Z",
     "shell.execute_reply": "2025-05-19T19:25:18.248520Z"
    },
    "papermill": {
     "duration": 144.679305,
     "end_time": "2025-05-19T19:25:18.250983",
     "exception": false,
     "start_time": "2025-05-19T19:22:53.571678",
     "status": "completed"
    },
    "tags": []
   },
   "outputs": [
    {
     "name": "stdout",
     "output_type": "stream",
     "text": [
      "\u001b[2K     \u001b[90m━━━━━━━━━━━━━━━━━━━━━━━━━━━━━━━━━━━━━━━━\u001b[0m \u001b[32m43.3/43.3 kB\u001b[0m \u001b[31m1.4 MB/s\u001b[0m eta \u001b[36m0:00:00\u001b[0m\r\n",
      "\u001b[2K     \u001b[90m━━━━━━━━━━━━━━━━━━━━━━━━━━━━━━━━━━━━━━━━\u001b[0m \u001b[32m2.2/2.2 MB\u001b[0m \u001b[31m29.2 MB/s\u001b[0m eta \u001b[36m0:00:00\u001b[0m\r\n",
      "\u001b[?25h  Preparing metadata (setup.py) ... \u001b[?25l\u001b[?25hdone\r\n",
      "  Preparing metadata (setup.py) ... \u001b[?25l\u001b[?25hdone\r\n",
      "\u001b[2K     \u001b[90m━━━━━━━━━━━━━━━━━━━━━━━━━━━━━━━━━━━━━━━━\u001b[0m \u001b[32m87.2/87.2 kB\u001b[0m \u001b[31m6.5 MB/s\u001b[0m eta \u001b[36m0:00:00\u001b[0m\r\n",
      "\u001b[?25h  Preparing metadata (setup.py) ... \u001b[?25l\u001b[?25hdone\r\n",
      "\u001b[2K   \u001b[90m━━━━━━━━━━━━━━━━━━━━━━━━━━━━━━━━━━━━━━━━\u001b[0m \u001b[32m93.7/93.7 kB\u001b[0m \u001b[31m5.0 MB/s\u001b[0m eta \u001b[36m0:00:00\u001b[0m\r\n",
      "\u001b[2K   \u001b[90m━━━━━━━━━━━━━━━━━━━━━━━━━━━━━━━━━━━━━━━━\u001b[0m \u001b[32m791.3/791.3 kB\u001b[0m \u001b[31m38.8 MB/s\u001b[0m eta \u001b[36m0:00:00\u001b[0m\r\n",
      "\u001b[2K   \u001b[90m━━━━━━━━━━━━━━━━━━━━━━━━━━━━━━━━━━━━━━━━\u001b[0m \u001b[32m86.8/86.8 kB\u001b[0m \u001b[31m5.8 MB/s\u001b[0m eta \u001b[36m0:00:00\u001b[0m\r\n",
      "\u001b[2K   \u001b[90m━━━━━━━━━━━━━━━━━━━━━━━━━━━━━━━━━━━━━━━━\u001b[0m \u001b[32m8.6/8.6 MB\u001b[0m \u001b[31m89.7 MB/s\u001b[0m eta \u001b[36m0:00:00\u001b[0m\r\n",
      "\u001b[2K   \u001b[90m━━━━━━━━━━━━━━━━━━━━━━━━━━━━━━━━━━━━━━━━\u001b[0m \u001b[32m13.5/13.5 MB\u001b[0m \u001b[31m85.2 MB/s\u001b[0m eta \u001b[36m0:00:00\u001b[0m\r\n",
      "\u001b[2K   \u001b[90m━━━━━━━━━━━━━━━━━━━━━━━━━━━━━━━━━━━━━━━━\u001b[0m \u001b[32m363.4/363.4 MB\u001b[0m \u001b[31m4.6 MB/s\u001b[0m eta \u001b[36m0:00:00\u001b[0m\r\n",
      "\u001b[2K   \u001b[90m━━━━━━━━━━━━━━━━━━━━━━━━━━━━━━━━━━━━━━━━\u001b[0m \u001b[32m664.8/664.8 MB\u001b[0m \u001b[31m2.2 MB/s\u001b[0m eta \u001b[36m0:00:00\u001b[0m\r\n",
      "\u001b[2K   \u001b[90m━━━━━━━━━━━━━━━━━━━━━━━━━━━━━━━━━━━━━━━━\u001b[0m \u001b[32m211.5/211.5 MB\u001b[0m \u001b[31m2.3 MB/s\u001b[0m eta \u001b[36m0:00:00\u001b[0m\r\n",
      "\u001b[2K   \u001b[90m━━━━━━━━━━━━━━━━━━━━━━━━━━━━━━━━━━━━━━━━\u001b[0m \u001b[32m56.3/56.3 MB\u001b[0m \u001b[31m8.9 MB/s\u001b[0m eta \u001b[36m0:00:00\u001b[0m\r\n",
      "\u001b[2K   \u001b[90m━━━━━━━━━━━━━━━━━━━━━━━━━━━━━━━━━━━━━━━━\u001b[0m \u001b[32m127.9/127.9 MB\u001b[0m \u001b[31m13.2 MB/s\u001b[0m eta \u001b[36m0:00:00\u001b[0m\r\n",
      "\u001b[2K   \u001b[90m━━━━━━━━━━━━━━━━━━━━━━━━━━━━━━━━━━━━━━━━\u001b[0m \u001b[32m207.5/207.5 MB\u001b[0m \u001b[31m8.1 MB/s\u001b[0m eta \u001b[36m0:00:00\u001b[0m\r\n",
      "\u001b[2K   \u001b[90m━━━━━━━━━━━━━━━━━━━━━━━━━━━━━━━━━━━━━━━━\u001b[0m \u001b[32m21.1/21.1 MB\u001b[0m \u001b[31m71.4 MB/s\u001b[0m eta \u001b[36m0:00:00\u001b[0m\r\n",
      "\u001b[2K   \u001b[90m━━━━━━━━━━━━━━━━━━━━━━━━━━━━━━━━━━━━━━━━\u001b[0m \u001b[32m956.3/956.3 kB\u001b[0m \u001b[31m40.6 MB/s\u001b[0m eta \u001b[36m0:00:00\u001b[0m\r\n",
      "\u001b[2K   \u001b[90m━━━━━━━━━━━━━━━━━━━━━━━━━━━━━━━━━━━━━━━━\u001b[0m \u001b[32m81.0/81.0 kB\u001b[0m \u001b[31m6.3 MB/s\u001b[0m eta \u001b[36m0:00:00\u001b[0m\r\n",
      "\u001b[2K   \u001b[90m━━━━━━━━━━━━━━━━━━━━━━━━━━━━━━━━━━━━━━━━\u001b[0m \u001b[32m85.4/85.4 kB\u001b[0m \u001b[31m6.2 MB/s\u001b[0m eta \u001b[36m0:00:00\u001b[0m\r\n",
      "\u001b[2K   \u001b[90m━━━━━━━━━━━━━━━━━━━━━━━━━━━━━━━━━━━━━━━━\u001b[0m \u001b[32m66.8/66.8 kB\u001b[0m \u001b[31m4.5 MB/s\u001b[0m eta \u001b[36m0:00:00\u001b[0m\r\n",
      "\u001b[2K   \u001b[90m━━━━━━━━━━━━━━━━━━━━━━━━━━━━━━━━━━━━━━━━\u001b[0m \u001b[32m49.9/49.9 MB\u001b[0m \u001b[31m33.1 MB/s\u001b[0m eta \u001b[36m0:00:00\u001b[0m\r\n",
      "\u001b[2K   \u001b[90m━━━━━━━━━━━━━━━━━━━━━━━━━━━━━━━━━━━━━━━━\u001b[0m \u001b[32m114.7/114.7 kB\u001b[0m \u001b[31m7.8 MB/s\u001b[0m eta \u001b[36m0:00:00\u001b[0m\r\n",
      "\u001b[2K   \u001b[90m━━━━━━━━━━━━━━━━━━━━━━━━━━━━━━━━━━━━━━━━\u001b[0m \u001b[32m62.5/62.5 MB\u001b[0m \u001b[31m26.9 MB/s\u001b[0m eta \u001b[36m0:00:00\u001b[0m\r\n",
      "\u001b[2K   \u001b[90m━━━━━━━━━━━━━━━━━━━━━━━━━━━━━━━━━━━━━━━━\u001b[0m \u001b[32m7.8/7.8 MB\u001b[0m \u001b[31m86.3 MB/s\u001b[0m eta \u001b[36m0:00:00\u001b[0m\r\n",
      "\u001b[?25h  Building wheel for pyqtree (setup.py) ... \u001b[?25l\u001b[?25hdone\r\n",
      "  Building wheel for reverse_geocoder (setup.py) ... \u001b[?25l\u001b[?25hdone\r\n",
      "  Building wheel for fire (setup.py) ... \u001b[?25l\u001b[?25hdone\r\n",
      "\u001b[31mERROR: pip's dependency resolver does not currently take into account all the packages that are installed. This behaviour is the source of the following dependency conflicts.\r\n",
      "datasets 3.6.0 requires fsspec[http]<=2025.3.0,>=2023.1.0, but you have fsspec 2025.3.2 which is incompatible.\r\n",
      "ydata-profiling 4.16.1 requires matplotlib<=3.10,>=3.5, but you have matplotlib 3.10.3 which is incompatible.\r\n",
      "category-encoders 2.7.0 requires scikit-learn<1.6.0,>=1.0.0, but you have scikit-learn 1.6.1 which is incompatible.\r\n",
      "cesium 0.12.4 requires numpy<3.0,>=2.0, but you have numpy 1.26.4 which is incompatible.\r\n",
      "google-colab 1.0.0 requires google-auth==2.38.0, but you have google-auth 2.40.1 which is incompatible.\r\n",
      "google-colab 1.0.0 requires notebook==6.5.7, but you have notebook 6.5.4 which is incompatible.\r\n",
      "google-colab 1.0.0 requires pandas==2.2.2, but you have pandas 2.2.3 which is incompatible.\r\n",
      "dopamine-rl 4.1.2 requires gymnasium>=1.0.0, but you have gymnasium 0.29.0 which is incompatible.\r\n",
      "bigframes 1.42.0 requires rich<14,>=12.4.4, but you have rich 14.0.0 which is incompatible.\r\n",
      "google-spark-connect 0.5.2 requires google-api-core>=2.19.1, but you have google-api-core 1.34.1 which is incompatible.\r\n",
      "google-cloud-bigtable 2.30.0 requires google-api-core[grpc]<3.0.0,>=2.16.0, but you have google-api-core 1.34.1 which is incompatible.\r\n",
      "google-cloud-storage 2.19.0 requires google-api-core<3.0.0dev,>=2.15.0, but you have google-api-core 1.34.1 which is incompatible.\r\n",
      "pandas-gbq 0.28.0 requires google-api-core<3.0.0dev,>=2.10.2, but you have google-api-core 1.34.1 which is incompatible.\u001b[0m\u001b[31m\r\n",
      "\u001b[0m"
     ]
    }
   ],
   "source": [
    "# Data Handling\n",
    "import pandas as pd\n",
    "import numpy as np\n",
    "\n",
    "# IO - getting files and images from MongoDB and S3\n",
    "from pymongo import MongoClient\n",
    "from kaggle_secrets import UserSecretsClient\n",
    "import requests\n",
    "\n",
    "from concurrent.futures import ThreadPoolExecutor\n",
    "\n",
    "from pathlib import Path\n",
    "from PIL import Image\n",
    "from io import BytesIO\n",
    "\n",
    "import os\n",
    "import re\n",
    "import shutil\n",
    "import json\n",
    "import time\n",
    "\n",
    "# Install speciesnet and related megadetector libraries\n",
    "!pip install -Uqq speciesnet megadetector-utils\n",
    "\n",
    "from IPython.display import display\n",
    "from IPython.display import JSON\n",
    "\n",
    "from speciesnet import SpeciesNet\n",
    "import kagglehub\n",
    "\n"
   ]
  },
  {
   "cell_type": "code",
   "execution_count": 2,
   "id": "535bbf1f",
   "metadata": {
    "execution": {
     "iopub.execute_input": "2025-05-19T19:25:18.303062Z",
     "iopub.status.busy": "2025-05-19T19:25:18.302085Z",
     "iopub.status.idle": "2025-05-19T19:25:34.171317Z",
     "shell.execute_reply": "2025-05-19T19:25:34.170550Z"
    },
    "papermill": {
     "duration": 15.896389,
     "end_time": "2025-05-19T19:25:34.172882",
     "exception": false,
     "start_time": "2025-05-19T19:25:18.276493",
     "status": "completed"
    },
    "tags": []
   },
   "outputs": [
    {
     "name": "stdout",
     "output_type": "stream",
     "text": [
      "*** Running Torch tests ***\r\n",
      "\r\n",
      "Torch version: 2.6.0+cu124\r\n",
      "CUDA available (according to PyTorch): True\r\n",
      "CUDA version (according to PyTorch): 12.4\r\n",
      "CuDNN version (according to PyTorch): 90100\r\n",
      "Found 1 CUDA devices:\r\n",
      "0: Tesla P100-PCIE-16GB\r\n"
     ]
    }
   ],
   "source": [
    "# Run a quick check to see if the GPU is being used\n",
    "!python -m speciesnet.scripts.gpu_test"
   ]
  },
  {
   "cell_type": "code",
   "execution_count": 3,
   "id": "f599d222",
   "metadata": {
    "execution": {
     "iopub.execute_input": "2025-05-19T19:25:34.224134Z",
     "iopub.status.busy": "2025-05-19T19:25:34.223866Z",
     "iopub.status.idle": "2025-05-19T19:25:34.228769Z",
     "shell.execute_reply": "2025-05-19T19:25:34.228217Z"
    },
    "papermill": {
     "duration": 0.031322,
     "end_time": "2025-05-19T19:25:34.229885",
     "exception": false,
     "start_time": "2025-05-19T19:25:34.198563",
     "status": "completed"
    },
    "tags": []
   },
   "outputs": [],
   "source": [
    "# Configuration for Multithreading and Batching\n",
    "num_batches = 10\n",
    "max_threads = 8\n",
    "output_root = Path(\"output\")\n",
    "\n",
    "# Prepare folders\n",
    "output_root.mkdir(exist_ok=True)\n",
    "images_root = Path(\"images\")\n",
    "images_root.mkdir(exist_ok=True)"
   ]
  },
  {
   "cell_type": "markdown",
   "id": "088a4ea9",
   "metadata": {
    "papermill": {
     "duration": 0.024318,
     "end_time": "2025-05-19T19:25:34.279312",
     "exception": false,
     "start_time": "2025-05-19T19:25:34.254994",
     "status": "completed"
    },
    "tags": []
   },
   "source": [
    "## Access The URIs from S3 through MongoDB"
   ]
  },
  {
   "cell_type": "code",
   "execution_count": 4,
   "id": "ee399a95",
   "metadata": {
    "execution": {
     "iopub.execute_input": "2025-05-19T19:25:34.329089Z",
     "iopub.status.busy": "2025-05-19T19:25:34.328898Z",
     "iopub.status.idle": "2025-05-19T19:25:40.997842Z",
     "shell.execute_reply": "2025-05-19T19:25:40.996970Z"
    },
    "papermill": {
     "duration": 6.695545,
     "end_time": "2025-05-19T19:25:40.999302",
     "exception": false,
     "start_time": "2025-05-19T19:25:34.303757",
     "status": "completed"
    },
    "tags": []
   },
   "outputs": [],
   "source": [
    "# Get the stored mongo uri secret\n",
    "user_secrets = UserSecretsClient()\n",
    "mongo_uri = user_secrets.get_secret(\"MONGO_URI\")\n",
    "\n",
    "# Connect to the MongoDB client\n",
    "client = MongoClient(mongo_uri)\n",
    " \n",
    "# Access the database and collection\n",
    "db = client['test']\n",
    "collection = db['cameratrapmedias'] \n",
    " \n",
    "# Query the collection to retrieve records with image URLs, metadata, and the first index of 'relativePath'\n",
    "data = list(collection.aggregate([\n",
    "    {\n",
    "        '$project': {\n",
    "            '_id': 0,\n",
    "            'publicURL': 1,\n",
    "            'timestamp': 1,\n",
    "            'folderName': { '$arrayElemAt': ['$relativePath', 1] },\n",
    "            'fileName': 1\n",
    "        }\n",
    "    },\n",
    "    # { '$limit': 150 }\n",
    "]))\n",
    " \n",
    "# Convert the data to a pandas DataFrame for exploration\n",
    "df = pd.DataFrame(data)\n",
    "\n",
    "# Export the small array to a CSV file for preview\n",
    "df.to_csv('ur_test_medias.csv', index=False)"
   ]
  },
  {
   "cell_type": "markdown",
   "id": "d2665bfc",
   "metadata": {
    "papermill": {
     "duration": 0.026293,
     "end_time": "2025-05-19T19:25:41.051777",
     "exception": false,
     "start_time": "2025-05-19T19:25:41.025484",
     "status": "completed"
    },
    "tags": []
   },
   "source": [
    "## We are going to create a column that creates a file name to save the image"
   ]
  },
  {
   "cell_type": "code",
   "execution_count": 5,
   "id": "66ce5560",
   "metadata": {
    "execution": {
     "iopub.execute_input": "2025-05-19T19:25:41.150783Z",
     "iopub.status.busy": "2025-05-19T19:25:41.150432Z",
     "iopub.status.idle": "2025-05-19T19:25:41.435978Z",
     "shell.execute_reply": "2025-05-19T19:25:41.434898Z"
    },
    "papermill": {
     "duration": 0.31235,
     "end_time": "2025-05-19T19:25:41.437249",
     "exception": false,
     "start_time": "2025-05-19T19:25:41.124899",
     "status": "completed"
    },
    "tags": []
   },
   "outputs": [
    {
     "name": "stdout",
     "output_type": "stream",
     "text": [
      "            timestamp                                          publicURL  \\\n",
      "0 2024-01-27 13:33:15  https://urbanriverrangers.s3.amazonaws.com/ima...   \n",
      "1 2024-01-24 18:56:50  https://urbanriverrangers.s3.amazonaws.com/ima...   \n",
      "2 2024-01-24 19:01:54  https://urbanriverrangers.s3.amazonaws.com/ima...   \n",
      "3 2024-01-24 19:03:05  https://urbanriverrangers.s3.amazonaws.com/ima...   \n",
      "4 2024-01-24 19:04:19  https://urbanriverrangers.s3.amazonaws.com/ima...   \n",
      "\n",
      "       fileName                               folderName  \\\n",
      "0  SYFW0060.JPG                   2024-01-30_prologis_02   \n",
      "1  SYFW0001.JPG  2024-01-30_Learnin_platform_camera_test   \n",
      "2  SYFW0002.JPG  2024-01-30_Learnin_platform_camera_test   \n",
      "3  SYFW0004.JPG  2024-01-30_Learnin_platform_camera_test   \n",
      "4  SYFW0006.JPG  2024-01-30_Learnin_platform_camera_test   \n",
      "\n",
      "                                           imageName  \n",
      "0               2024-01-30_prologis_02--SYFW0060.JPG  \n",
      "1  2024-01-30_Learnin_platform_camera_test--SYFW0...  \n",
      "2  2024-01-30_Learnin_platform_camera_test--SYFW0...  \n",
      "3  2024-01-30_Learnin_platform_camera_test--SYFW0...  \n",
      "4  2024-01-30_Learnin_platform_camera_test--SYFW0...  \n"
     ]
    }
   ],
   "source": [
    "# This function will format the final string\n",
    "def make_filename(s):\n",
    "    # s = s.lower()\n",
    "    s = re.sub(r'[^\\w\\s.-]', '', s) # remove special characters except dash or underscore or period\n",
    "    s = re.sub(r'\\s+', '_', s) # replace whitespace with underscore\n",
    "    return s\n",
    "\n",
    "# Combine the relative path second (folder name) + fileName\n",
    "df['imageName'] = df['folderName'] + '--' + df['fileName']\n",
    "df['imageName'] = df['imageName'].apply(make_filename)\n",
    "\n",
    "print(df.head())"
   ]
  },
  {
   "cell_type": "markdown",
   "id": "a84e6922",
   "metadata": {
    "papermill": {
     "duration": 0.024795,
     "end_time": "2025-05-19T19:25:41.487544",
     "exception": false,
     "start_time": "2025-05-19T19:25:41.462749",
     "status": "completed"
    },
    "tags": []
   },
   "source": [
    "Now that we have a connection to the MongoDB server and access to the URLs, let's use the download images."
   ]
  },
  {
   "cell_type": "markdown",
   "id": "898e2400",
   "metadata": {
    "papermill": {
     "duration": 0.024287,
     "end_time": "2025-05-19T19:25:41.537050",
     "exception": false,
     "start_time": "2025-05-19T19:25:41.512763",
     "status": "completed"
    },
    "tags": []
   },
   "source": [
    "## Download Images"
   ]
  },
  {
   "cell_type": "code",
   "execution_count": 6,
   "id": "38e96d32",
   "metadata": {
    "_kg_hide-output": true,
    "execution": {
     "iopub.execute_input": "2025-05-19T19:25:41.588516Z",
     "iopub.status.busy": "2025-05-19T19:25:41.588228Z",
     "iopub.status.idle": "2025-05-19T22:32:03.320395Z",
     "shell.execute_reply": "2025-05-19T22:32:03.319644Z"
    },
    "papermill": {
     "duration": 11181.78668,
     "end_time": "2025-05-19T22:32:03.348811",
     "exception": false,
     "start_time": "2025-05-19T19:25:41.562131",
     "status": "completed"
    },
    "tags": []
   },
   "outputs": [
    {
     "name": "stdout",
     "output_type": "stream",
     "text": [
      "Processing batch 1 / 10 with 5000 images...\n"
     ]
    },
    {
     "name": "stderr",
     "output_type": "stream",
     "text": [
      "/usr/local/lib/python3.11/dist-packages/numpy/core/fromnumeric.py:59: FutureWarning: 'DataFrame.swapaxes' is deprecated and will be removed in a future version. Please use 'DataFrame.transpose' instead.\n",
      "  return bound(*args, **kwds)\n"
     ]
    },
    {
     "name": "stdout",
     "output_type": "stream",
     "text": [
      "Batch 1 took 864.92 seconds.\n",
      "Processing batch 2 / 10 with 5000 images...\n",
      "Batch 2 took 867.47 seconds.\n",
      "Processing batch 3 / 10 with 5000 images...\n",
      "Batch 3 took 1249.50 seconds.\n",
      "Processing batch 4 / 10 with 5000 images...\n",
      "Batch 4 took 1389.12 seconds.\n",
      "Processing batch 5 / 10 with 5000 images...\n",
      "Batch 5 took 1365.65 seconds.\n",
      "Processing batch 6 / 10 with 5000 images...\n",
      "Batch 6 took 876.71 seconds.\n",
      "Processing batch 7 / 10 with 5000 images...\n",
      "Batch 7 took 975.35 seconds.\n",
      "Processing batch 8 / 10 with 5000 images...\n",
      "Batch 8 took 1243.31 seconds.\n",
      "Processing batch 9 / 10 with 5000 images...\n",
      "Batch 9 took 1091.17 seconds.\n",
      "Processing batch 10 / 10 with 5000 images...\n",
      "Batch 10 took 1258.50 seconds.\n",
      "50000 Images Downloaded and Resized\n",
      "CPU times: user 2h 27min 28s, sys: 20min 1s, total: 2h 47min 29s\n",
      "Wall time: 3h 6min 21s\n"
     ]
    }
   ],
   "source": [
    "%%time\n",
    "# Create a directory to save the images\n",
    "output_root.mkdir(exist_ok=True)\n",
    "path = Path('images')\n",
    "path.mkdir(exist_ok=True)\n",
    "\n",
    "# Create a tool for resizing so cropping top and bottom can happen while keeping the aspect ratio\n",
    "def resize_to_height(image, target_height=256):\n",
    "    og_width, og_height = image.size\n",
    "    new_width = int(og_width * (target_height / og_height))\n",
    "    return image.resize((new_width, target_height))\n",
    "\n",
    "# Create a tool for downloading and processing images\n",
    "def process_row(row, dest_folder):\n",
    "    url = row['publicURL']\n",
    "    filename = row['imageName']\n",
    "    # Download the image\n",
    "    dest = dest_folder/filename\n",
    "\n",
    "    try:\n",
    "        # Download image to memory\n",
    "        response = requests.get(url)\n",
    "        response.raise_for_status()\n",
    "\n",
    "        # Open and process the image\n",
    "        image = Image.open(BytesIO(response.content)).convert(\"RGB\")\n",
    "        image = resize_to_height(image, target_height=256)\n",
    "        image.save(dest, format=\"JPEG\", quality=85)\n",
    "        \n",
    "    except Exception as e:\n",
    "        print(f\"failed to process{filename}: {e}\")\n",
    "\n",
    "# Download and display some images where at least an animal was found - ex rat\n",
    "df_test = df[44410:44910] # 500 images with some known animal detections\n",
    "df_big_chunk = df[0:10000] # first 10000 images\n",
    "df_bigger_chunk = df[10001:60001] # second 50k\n",
    "\n",
    "# Process Batches\n",
    "for batch_idx, df_chunk in enumerate(np.array_split(df_bigger_chunk, num_batches)): # change to df_test to split a test batch size\n",
    "    batch_folder = images_root / f'batch_{batch_idx}'\n",
    "    batch_folder.mkdir(exist_ok=True)\n",
    "\n",
    "    print(f'Processing batch {batch_idx + 1} / {num_batches} with {len(df_chunk)} images...')\n",
    "\n",
    "    start = time.time()\n",
    "    \n",
    "    with ThreadPoolExecutor(max_workers=max_threads) as executor:\n",
    "        executor.map(lambda row: process_row(row, batch_folder), [row for _, row in df_chunk.iterrows()])\n",
    "\n",
    "    end = time.time()\n",
    "    print(f\"Batch {batch_idx+1} took {end - start:.2f} seconds.\")\n",
    "        \n",
    "print(f'{len(df_bigger_chunk)} Images Downloaded and Resized')"
   ]
  },
  {
   "cell_type": "code",
   "execution_count": 7,
   "id": "8ffc75eb",
   "metadata": {
    "execution": {
     "iopub.execute_input": "2025-05-19T22:32:03.400969Z",
     "iopub.status.busy": "2025-05-19T22:32:03.400452Z",
     "iopub.status.idle": "2025-05-19T22:32:03.403831Z",
     "shell.execute_reply": "2025-05-19T22:32:03.403143Z"
    },
    "papermill": {
     "duration": 0.030683,
     "end_time": "2025-05-19T22:32:03.404889",
     "exception": false,
     "start_time": "2025-05-19T22:32:03.374206",
     "status": "completed"
    },
    "tags": []
   },
   "outputs": [],
   "source": [
    "# Uncomment and run this if the images need to be redone\n",
    "# !rm images -r\n",
    "# !rm docs.zip\n",
    "# %lsmagic"
   ]
  },
  {
   "cell_type": "markdown",
   "id": "c68b8bbd",
   "metadata": {
    "papermill": {
     "duration": 0.025167,
     "end_time": "2025-05-19T22:32:03.455574",
     "exception": false,
     "start_time": "2025-05-19T22:32:03.430407",
     "status": "completed"
    },
    "tags": []
   },
   "source": [
    "## Running Species Net on the Full Dataset\n",
    "Now that we have the max number of images downloaded (19.5GB) let's run speciesnet\n",
    "\n",
    "Note there might be a better way of doing this using bytes downloaded from s3 - but I haven't figured that part out yet.\n",
    "\n",
    "### We're going to try a multithreading chunks approach"
   ]
  },
  {
   "cell_type": "code",
   "execution_count": 8,
   "id": "8b0fe915",
   "metadata": {
    "execution": {
     "iopub.execute_input": "2025-05-19T22:32:03.508054Z",
     "iopub.status.busy": "2025-05-19T22:32:03.507455Z",
     "iopub.status.idle": "2025-05-19T22:32:03.511535Z",
     "shell.execute_reply": "2025-05-19T22:32:03.510849Z"
    },
    "papermill": {
     "duration": 0.031176,
     "end_time": "2025-05-19T22:32:03.512560",
     "exception": false,
     "start_time": "2025-05-19T22:32:03.481384",
     "status": "completed"
    },
    "tags": []
   },
   "outputs": [],
   "source": [
    "def print_predictions(predictions_dict: dict) -> None:\n",
    "    print(\"Predictions:\")\n",
    "    for prediction in predictions_dict[\"predictions\"][0:1]:\n",
    "        print(prediction[\"filepath\"], \"=>\", prediction[\"prediction\"])"
   ]
  },
  {
   "cell_type": "markdown",
   "id": "ad3d03be",
   "metadata": {
    "papermill": {
     "duration": 0.026931,
     "end_time": "2025-05-19T22:32:03.565120",
     "exception": false,
     "start_time": "2025-05-19T22:32:03.538189",
     "status": "completed"
    },
    "tags": []
   },
   "source": [
    "### Download Model"
   ]
  },
  {
   "cell_type": "code",
   "execution_count": 9,
   "id": "da35dda6",
   "metadata": {
    "execution": {
     "iopub.execute_input": "2025-05-19T22:32:03.616353Z",
     "iopub.status.busy": "2025-05-19T22:32:03.615965Z",
     "iopub.status.idle": "2025-05-19T22:32:07.943774Z",
     "shell.execute_reply": "2025-05-19T22:32:07.943012Z"
    },
    "papermill": {
     "duration": 4.354498,
     "end_time": "2025-05-19T22:32:07.944914",
     "exception": false,
     "start_time": "2025-05-19T22:32:03.590416",
     "status": "completed"
    },
    "tags": []
   },
   "outputs": [
    {
     "name": "stdout",
     "output_type": "stream",
     "text": [
      "Model downloaded to temporary folder: /kaggle/input/speciesnet/pytorch/v4.0.1a/1\n",
      "6 files copied to: /content/models\n"
     ]
    }
   ],
   "source": [
    "# Choose the folder we're going to download the model to\n",
    "model_path = '/content/models'\n",
    "os.makedirs(model_path, exist_ok=True)\n",
    "\n",
    "# Download the model (it will go to a folder like /kaggle/input/...)\n",
    "download_path = kagglehub.model_download('google/speciesnet/PyTorch/v4.0.1a',\n",
    "                                          force_download=True)\n",
    "\n",
    "print('Model downloaded to temporary folder: {}'.format(download_path))\n",
    "\n",
    "# List the contents of the downloaded directory to identify the actual files/subdirectories\n",
    "model_files = os.listdir(download_path)\n",
    "\n",
    "# Copy the contents of the model file to our destination folder\n",
    "for item_name in model_files:\n",
    "    source_path = os.path.join(download_path, item_name)\n",
    "    destination_path = os.path.join(model_path, item_name)\n",
    "    if os.path.isfile(source_path):\n",
    "        shutil.copy2(source_path, destination_path)\n",
    "    elif os.path.isdir(source_path):\n",
    "        shutil.copytree(source_path, destination_path, dirs_exist_ok=True)\n",
    "\n",
    "print('{} files copied to: {}'.format(len(model_files),model_path))"
   ]
  },
  {
   "cell_type": "code",
   "execution_count": 10,
   "id": "9d8ff34a",
   "metadata": {
    "execution": {
     "iopub.execute_input": "2025-05-19T22:32:07.997547Z",
     "iopub.status.busy": "2025-05-19T22:32:07.997295Z",
     "iopub.status.idle": "2025-05-19T22:32:42.996088Z",
     "shell.execute_reply": "2025-05-19T22:32:42.995248Z"
    },
    "papermill": {
     "duration": 35.051602,
     "end_time": "2025-05-19T22:32:43.022878",
     "exception": false,
     "start_time": "2025-05-19T22:32:07.971276",
     "status": "completed"
    },
    "tags": []
   },
   "outputs": [
    {
     "name": "stdout",
     "output_type": "stream",
     "text": [
      "Model Loaded\n"
     ]
    }
   ],
   "source": [
    "# Pick the model we want to use (4.0.1a)\n",
    "model = SpeciesNet(model_path)\n",
    "\n",
    "print('Model Loaded')"
   ]
  },
  {
   "cell_type": "code",
   "execution_count": 11,
   "id": "dcb8f823",
   "metadata": {
    "execution": {
     "iopub.execute_input": "2025-05-19T22:32:43.074192Z",
     "iopub.status.busy": "2025-05-19T22:32:43.073966Z",
     "iopub.status.idle": "2025-05-19T23:58:00.318899Z",
     "shell.execute_reply": "2025-05-19T23:58:00.318098Z"
    },
    "papermill": {
     "duration": 5117.289495,
     "end_time": "2025-05-19T23:58:00.337834",
     "exception": false,
     "start_time": "2025-05-19T22:32:43.048339",
     "status": "completed"
    },
    "tags": []
   },
   "outputs": [
    {
     "name": "stdout",
     "output_type": "stream",
     "text": [
      "{'filepath': 'images/batch_0/2024-02-01_Bubbly_spypoint_garden--PICT2247.JPG', 'latitude': 41.906782, 'longitude': -87.651927}\n",
      "CPU times: user 16min 26s, sys: 8.17 s, total: 16min 34s\n",
      "Wall time: 8min 2s\n",
      "Predictions:\n",
      "images/batch_0/2024-02-01_Bubbly_spypoint_garden--PICT2247.JPG => f1856211-cfb7-4a5b-9158-c0f72fd09ee6;;;;;;blank\n",
      "predictions_dict_0.json saved to images/batch_0\n",
      "{'filepath': 'images/batch_1/2024-02-01_Bubbly_spypoint_garden--PICT6851.JPG', 'latitude': 41.906782, 'longitude': -87.651927}\n",
      "CPU times: user 16min 32s, sys: 10.5 s, total: 16min 43s\n",
      "Wall time: 8min 8s\n",
      "Predictions:\n",
      "images/batch_1/2024-02-01_Bubbly_spypoint_garden--PICT6851.JPG => f1856211-cfb7-4a5b-9158-c0f72fd09ee6;;;;;;blank\n",
      "predictions_dict_1.json saved to images/batch_1\n",
      "{'filepath': 'images/batch_2/2024-03-23_00-38-55--SYFW0135.JPG', 'latitude': 41.906782, 'longitude': -87.651927}\n",
      "CPU times: user 19min 1s, sys: 8.62 s, total: 19min 9s\n",
      "Wall time: 9min 15s\n",
      "Predictions:\n",
      "images/batch_2/2024-03-23_00-38-55--SYFW0135.JPG => f1856211-cfb7-4a5b-9158-c0f72fd09ee6;;;;;;blank\n",
      "predictions_dict_2.json saved to images/batch_2\n",
      "{'filepath': 'images/batch_3/2024-05-12_Prologis--SYEW4111.JPG', 'latitude': 41.906782, 'longitude': -87.651927}\n",
      "CPU times: user 19min 50s, sys: 7.81 s, total: 19min 58s\n",
      "Wall time: 9min 40s\n",
      "Predictions:\n",
      "images/batch_3/2024-05-12_Prologis--SYEW4111.JPG => f1856211-cfb7-4a5b-9158-c0f72fd09ee6;;;;;;blank\n",
      "predictions_dict_3.json saved to images/batch_3\n",
      "{'filepath': 'images/batch_4/2024-05-12_Prologis--SYEW3030.JPG', 'latitude': 41.906782, 'longitude': -87.651927}\n",
      "CPU times: user 19min 56s, sys: 9.07 s, total: 20min 5s\n",
      "Wall time: 9min 40s\n",
      "Predictions:\n",
      "images/batch_4/2024-05-12_Prologis--SYEW3030.JPG => f2efdae9-efb8-48fb-8a91-eccf79ab4ffb;no cv result;no cv result;no cv result;no cv result;no cv result;no cv result\n",
      "predictions_dict_4.json saved to images/batch_4\n",
      "{'filepath': 'images/batch_5/2024-05-16_WM_Boardwalk_D--PICT3571.JPG', 'latitude': 41.906782, 'longitude': -87.651927}\n",
      "CPU times: user 16min 49s, sys: 8.31 s, total: 16min 57s\n",
      "Wall time: 8min 10s\n",
      "Predictions:\n",
      "images/batch_5/2024-05-16_WM_Boardwalk_D--PICT3571.JPG => f2efdae9-efb8-48fb-8a91-eccf79ab4ffb;no cv result;no cv result;no cv result;no cv result;no cv result;no cv result\n",
      "predictions_dict_5.json saved to images/batch_5\n",
      "{'filepath': 'images/batch_6/2024-05-16_WM_Boardwalk_D--PICT5684.JPG', 'latitude': 41.906782, 'longitude': -87.651927}\n",
      "CPU times: user 17min 31s, sys: 7.55 s, total: 17min 39s\n",
      "Wall time: 8min 31s\n",
      "Predictions:\n",
      "images/batch_6/2024-05-16_WM_Boardwalk_D--PICT5684.JPG => 1f689929-883d-4dae-958c-3d57ab5b6c16;;;;;;animal\n",
      "predictions_dict_6.json saved to images/batch_6\n",
      "{'filepath': 'images/batch_7/2024-06-08_WM_Boardwalk_D--PICT0531.JPG', 'latitude': 41.906782, 'longitude': -87.651927}\n",
      "CPU times: user 19min 50s, sys: 9.83 s, total: 20min\n",
      "Wall time: 9min 40s\n",
      "Predictions:\n",
      "images/batch_7/2024-06-08_WM_Boardwalk_D--PICT0531.JPG => f1856211-cfb7-4a5b-9158-c0f72fd09ee6;;;;;;blank\n",
      "predictions_dict_7.json saved to images/batch_7\n",
      "{'filepath': 'images/batch_8/2024-06-08_WM_Boardwalk_D--PICT4527.JPG', 'latitude': 41.906782, 'longitude': -87.651927}\n",
      "CPU times: user 19min 38s, sys: 7 s, total: 19min 45s\n",
      "Wall time: 9min 34s\n",
      "Predictions:\n",
      "images/batch_8/2024-06-08_WM_Boardwalk_D--PICT4527.JPG => f1856211-cfb7-4a5b-9158-c0f72fd09ee6;;;;;;blank\n",
      "predictions_dict_8.json saved to images/batch_8\n",
      "{'filepath': 'images/batch_9/2024-06-18_UR003--DSCF0636.JPG', 'latitude': 41.906782, 'longitude': -87.651927}\n",
      "CPU times: user 8min 52s, sys: 4.02 s, total: 8min 56s\n",
      "Wall time: 4min 30s\n",
      "Predictions:\n",
      "images/batch_9/2024-06-18_UR003--DSCF0636.JPG => f1856211-cfb7-4a5b-9158-c0f72fd09ee6;;;;;;blank\n",
      "predictions_dict_9.json saved to images/batch_9\n"
     ]
    }
   ],
   "source": [
    "# Let's format a request string as a list of dicts (aka JSON string format)\n",
    "def create_instances(batch_folder):\n",
    "    image_paths = [f'{batch_folder}/{f}' for f in os.listdir(batch_folder) if f.lower().endswith('.jpg')]\n",
    "\n",
    "    instances = []\n",
    "    for image_path in image_paths:\n",
    "        instances.append({\n",
    "            'filepath': image_path,\n",
    "            'latitude': 41.906782,\n",
    "            'longitude': -87.651927\n",
    "        })\n",
    "\n",
    "    # Check that it's saved correctly by verifying the first\n",
    "    print(instances[0])\n",
    "\n",
    "    return instances\n",
    "\n",
    "\n",
    "for batch_index in range(len(os.listdir(images_root))):\n",
    "    instances = create_instances(f'{images_root}/batch_{batch_index}')\n",
    "\n",
    "    # make the predictions and get a sense of how long it would take\n",
    "    %time predictions_dict = model.predict(instances_dict={\"instances\": instances})\n",
    "\n",
    "    print_predictions(predictions_dict) # show the first prediction of each batch\n",
    "\n",
    "    # Save the dict to the batch folder\n",
    "    with open(f'{images_root}/batch_{batch_index}/predictions_dict_{batch_index}.json', 'w') as f:\n",
    "        json.dump(predictions_dict, f, indent=2)\n",
    "\n",
    "    print(f'predictions_dict_{batch_index}.json saved to {images_root}/batch_{batch_index}')"
   ]
  },
  {
   "cell_type": "code",
   "execution_count": 12,
   "id": "780d9cab",
   "metadata": {
    "execution": {
     "iopub.execute_input": "2025-05-19T23:58:00.390994Z",
     "iopub.status.busy": "2025-05-19T23:58:00.390748Z",
     "iopub.status.idle": "2025-05-19T23:58:04.179763Z",
     "shell.execute_reply": "2025-05-19T23:58:04.178983Z"
    },
    "papermill": {
     "duration": 3.816943,
     "end_time": "2025-05-19T23:58:04.180961",
     "exception": false,
     "start_time": "2025-05-19T23:58:00.364018",
     "status": "completed"
    },
    "tags": []
   },
   "outputs": [
    {
     "name": "stdout",
     "output_type": "stream",
     "text": [
      "Combined 47267 predictions into output/predictions_dict_master.json\n"
     ]
    }
   ],
   "source": [
    "# To concatenate all the json files\n",
    "output_file = output_root / \"predictions_dict_master.json\"\n",
    "\n",
    "# Initialize the master predictions list\n",
    "master_predictions = []\n",
    "\n",
    "# Loop through files matching the pattern\n",
    "for json_file in sorted(images_root.glob(\"batch_*/predictions_dict_*.json\")):\n",
    "    with open(json_file, \"r\") as f:\n",
    "        data = json.load(f)\n",
    "        if \"predictions\" in data:\n",
    "            master_predictions.extend(data[\"predictions\"])  # Concatenate predictions!\n",
    "        else:\n",
    "            print(f\"{json_file} missing 'predictions' key\")\n",
    "\n",
    "# Write the combined predictions to a new file\n",
    "with open(output_file, \"w\") as f:\n",
    "    json.dump({\"predictions\": master_predictions}, f, indent=2)\n",
    "\n",
    "print(f\"Combined {len(master_predictions)} predictions into {output_file}\")\n"
   ]
  },
  {
   "cell_type": "markdown",
   "id": "dbda4fd9",
   "metadata": {
    "papermill": {
     "duration": 0.02625,
     "end_time": "2025-05-19T23:58:04.233987",
     "exception": false,
     "start_time": "2025-05-19T23:58:04.207737",
     "status": "completed"
    },
    "tags": []
   },
   "source": [
    "## Let's save the predictions dict json file"
   ]
  },
  {
   "cell_type": "code",
   "execution_count": 13,
   "id": "bb55eb27",
   "metadata": {
    "execution": {
     "iopub.execute_input": "2025-05-19T23:58:04.286992Z",
     "iopub.status.busy": "2025-05-19T23:58:04.286484Z",
     "iopub.status.idle": "2025-05-19T23:58:49.527249Z",
     "shell.execute_reply": "2025-05-19T23:58:49.526528Z"
    },
    "papermill": {
     "duration": 45.268645,
     "end_time": "2025-05-19T23:58:49.528615",
     "exception": false,
     "start_time": "2025-05-19T23:58:04.259970",
     "status": "completed"
    },
    "tags": []
   },
   "outputs": [
    {
     "name": "stdout",
     "output_type": "stream",
     "text": [
      "Loading results from /kaggle/working/output/predictions_dict_master.json\r\n",
      "This appears to be a SpeciesNet output file, converting to MD format\r\n",
      "Writing temporary results to /tmp/megadetector_temp_files/1c0f74b8-350d-11f0-87be-0242ac130202.json\r\n",
      "Warning: creating fake detection for non-blank whole-image classification\r\n",
      "Warning: creating fake detection for non-blank whole-image classification\r\n",
      "Warning: creating fake detection for non-blank whole-image classification\r\n",
      "Warning: creating fake detection for non-blank whole-image classification\r\n",
      "Warning: creating fake detection for non-blank whole-image classification\r\n",
      "Warning: creating fake detection for non-blank whole-image classification\r\n",
      "Warning: creating fake detection for non-blank whole-image classification\r\n",
      "Warning: creating fake detection for non-blank whole-image classification\r\n",
      "Warning: creating fake detection for non-blank whole-image classification\r\n",
      "Warning: creating fake detection for non-blank whole-image classification\r\n",
      "Warning: creating fake detection for non-blank whole-image classification\r\n",
      "Warning: creating fake detection for non-blank whole-image classification\r\n",
      "Warning: creating fake detection for non-blank whole-image classification\r\n",
      "Warning: creating fake detection for non-blank whole-image classification\r\n",
      "Warning: creating fake detection for non-blank whole-image classification\r\n",
      "Converting results to dataframe\r\n",
      "Finished loading MegaDetector results for 47267 images from /kaggle/working/output/predictions_dict_master.json\r\n",
      "Assigning images to rendering categories\r\n",
      "100%|██████████████████████████████████| 47267/47267 [00:01<00:00, 28211.46it/s]\r\n",
      "Finished loading and preprocessing 47267 rows from detector output, predicted 10870 positives.\r\n",
      "100%|███████████████████████████████████████| 2000/2000 [00:25<00:00, 77.11it/s]\r\n",
      "Rendered 2000 images (of 2000) in 25.94 seconds (0.01 seconds per image)\r\n",
      "Generating classification category report\r\n",
      "This appears to be a SpeciesNet output file, converting to MD format\r\n",
      "Writing temporary results to /tmp/megadetector_temp_files/3146ba26-350d-11f0-87be-0242ac130202.json\r\n",
      "Warning: creating fake detection for non-blank whole-image classification\r\n",
      "Warning: creating fake detection for non-blank whole-image classification\r\n",
      "Warning: creating fake detection for non-blank whole-image classification\r\n",
      "Warning: creating fake detection for non-blank whole-image classification\r\n",
      "Warning: creating fake detection for non-blank whole-image classification\r\n",
      "Warning: creating fake detection for non-blank whole-image classification\r\n",
      "Warning: creating fake detection for non-blank whole-image classification\r\n",
      "Warning: creating fake detection for non-blank whole-image classification\r\n",
      "Warning: creating fake detection for non-blank whole-image classification\r\n",
      "Warning: creating fake detection for non-blank whole-image classification\r\n",
      "Warning: creating fake detection for non-blank whole-image classification\r\n",
      "Warning: creating fake detection for non-blank whole-image classification\r\n",
      "Warning: creating fake detection for non-blank whole-image classification\r\n",
      "Warning: creating fake detection for non-blank whole-image classification\r\n",
      "Warning: creating fake detection for non-blank whole-image classification\r\n",
      "Finished writing html to /kaggle/working/output/docs/index.html\r\n"
     ]
    }
   ],
   "source": [
    "# Create a docs folder for previewing the images\n",
    "output_path = '/kaggle/working/output/docs'\n",
    "os.makedirs(output_path, exist_ok=True)\n",
    "\n",
    "# change n to sample to -1 for all\n",
    "!python -m megadetector.postprocessing.postprocess_batch_results /kaggle/working/output/predictions_dict_master.json /kaggle/working/output/docs --num_images_to_sample 2000 --confidence_threshold 0.5"
   ]
  },
  {
   "cell_type": "markdown",
   "id": "57d0c73f",
   "metadata": {
    "papermill": {
     "duration": 0.10003,
     "end_time": "2025-05-19T23:58:49.667557",
     "exception": false,
     "start_time": "2025-05-19T23:58:49.567527",
     "status": "completed"
    },
    "tags": []
   },
   "source": [
    "## Let's zip the folder so we can easily download it"
   ]
  },
  {
   "cell_type": "code",
   "execution_count": 14,
   "id": "f9a0f4f5",
   "metadata": {
    "execution": {
     "iopub.execute_input": "2025-05-19T23:58:49.741937Z",
     "iopub.status.busy": "2025-05-19T23:58:49.741278Z",
     "iopub.status.idle": "2025-05-19T23:58:54.361315Z",
     "shell.execute_reply": "2025-05-19T23:58:54.360753Z"
    },
    "papermill": {
     "duration": 4.658995,
     "end_time": "2025-05-19T23:58:54.362654",
     "exception": false,
     "start_time": "2025-05-19T23:58:49.703659",
     "status": "completed"
    },
    "tags": []
   },
   "outputs": [],
   "source": [
    "shutil.make_archive('/kaggle/working/output/docs', 'zip', '/kaggle/working/output/docs')\n",
    "\n",
    "# and finally clean up the tree that made it this far\n",
    "shutil.rmtree('/kaggle/working/output/docs')  # Deletes the folder\n"
   ]
  }
 ],
 "metadata": {
  "kaggle": {
   "accelerator": "gpu",
   "dataSources": [
    {
     "modelId": 247762,
     "modelInstanceId": 291118,
     "sourceId": 348614,
     "sourceType": "modelInstanceVersion"
    }
   ],
   "isGpuEnabled": true,
   "isInternetEnabled": true,
   "language": "python",
   "sourceType": "notebook"
  },
  "kernelspec": {
   "display_name": "Python 3",
   "language": "python",
   "name": "python3"
  },
  "language_info": {
   "codemirror_mode": {
    "name": "ipython",
    "version": 3
   },
   "file_extension": ".py",
   "mimetype": "text/x-python",
   "name": "python",
   "nbconvert_exporter": "python",
   "pygments_lexer": "ipython3",
   "version": "3.11.11"
  },
  "papermill": {
   "default_parameters": {},
   "duration": 16567.706438,
   "end_time": "2025-05-19T23:58:57.230588",
   "environment_variables": {},
   "exception": null,
   "input_path": "__notebook__.ipynb",
   "output_path": "__notebook__.ipynb",
   "parameters": {},
   "start_time": "2025-05-19T19:22:49.524150",
   "version": "2.6.0"
  }
 },
 "nbformat": 4,
 "nbformat_minor": 5
}
