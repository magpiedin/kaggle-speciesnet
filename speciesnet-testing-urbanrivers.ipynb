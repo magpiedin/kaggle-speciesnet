{
 "cells": [
  {
   "cell_type": "markdown",
   "id": "d51fe7b1",
   "metadata": {
    "papermill": {
     "duration": 0.003737,
     "end_time": "2025-05-19T12:59:47.934753",
     "exception": false,
     "start_time": "2025-05-19T12:59:47.931016",
     "status": "completed"
    },
    "tags": []
   },
   "source": [
    "## Notebook Setup and Required Packages"
   ]
  },
  {
   "cell_type": "code",
   "execution_count": 1,
   "id": "f22714c6",
   "metadata": {
    "execution": {
     "iopub.execute_input": "2025-05-19T12:59:47.942464Z",
     "iopub.status.busy": "2025-05-19T12:59:47.941785Z",
     "iopub.status.idle": "2025-05-19T13:02:02.616218Z",
     "shell.execute_reply": "2025-05-19T13:02:02.615366Z"
    },
    "papermill": {
     "duration": 134.679825,
     "end_time": "2025-05-19T13:02:02.617805",
     "exception": false,
     "start_time": "2025-05-19T12:59:47.937980",
     "status": "completed"
    },
    "tags": []
   },
   "outputs": [
    {
     "name": "stdout",
     "output_type": "stream",
     "text": [
      "\u001b[2K     \u001b[90m━━━━━━━━━━━━━━━━━━━━━━━━━━━━━━━━━━━━━━━━\u001b[0m \u001b[32m43.3/43.3 kB\u001b[0m \u001b[31m2.0 MB/s\u001b[0m eta \u001b[36m0:00:00\u001b[0m\r\n",
      "\u001b[2K     \u001b[90m━━━━━━━━━━━━━━━━━━━━━━━━━━━━━━━━━━━━━━━━\u001b[0m \u001b[32m2.2/2.2 MB\u001b[0m \u001b[31m42.3 MB/s\u001b[0m eta \u001b[36m0:00:00\u001b[0m\r\n",
      "\u001b[?25h  Preparing metadata (setup.py) ... \u001b[?25l\u001b[?25hdone\r\n",
      "  Preparing metadata (setup.py) ... \u001b[?25l\u001b[?25hdone\r\n",
      "\u001b[2K     \u001b[90m━━━━━━━━━━━━━━━━━━━━━━━━━━━━━━━━━━━━━━━━\u001b[0m \u001b[32m87.2/87.2 kB\u001b[0m \u001b[31m5.2 MB/s\u001b[0m eta \u001b[36m0:00:00\u001b[0m\r\n",
      "\u001b[?25h  Preparing metadata (setup.py) ... \u001b[?25l\u001b[?25hdone\r\n",
      "\u001b[2K   \u001b[90m━━━━━━━━━━━━━━━━━━━━━━━━━━━━━━━━━━━━━━━━\u001b[0m \u001b[32m93.7/93.7 kB\u001b[0m \u001b[31m6.0 MB/s\u001b[0m eta \u001b[36m0:00:00\u001b[0m\r\n",
      "\u001b[2K   \u001b[90m━━━━━━━━━━━━━━━━━━━━━━━━━━━━━━━━━━━━━━━━\u001b[0m \u001b[32m791.3/791.3 kB\u001b[0m \u001b[31m42.2 MB/s\u001b[0m eta \u001b[36m0:00:00\u001b[0m\r\n",
      "\u001b[2K   \u001b[90m━━━━━━━━━━━━━━━━━━━━━━━━━━━━━━━━━━━━━━━━\u001b[0m \u001b[32m86.8/86.8 kB\u001b[0m \u001b[31m6.0 MB/s\u001b[0m eta \u001b[36m0:00:00\u001b[0m\r\n",
      "\u001b[2K   \u001b[90m━━━━━━━━━━━━━━━━━━━━━━━━━━━━━━━━━━━━━━━━\u001b[0m \u001b[32m8.6/8.6 MB\u001b[0m \u001b[31m111.4 MB/s\u001b[0m eta \u001b[36m0:00:00\u001b[0m\r\n",
      "\u001b[2K   \u001b[90m━━━━━━━━━━━━━━━━━━━━━━━━━━━━━━━━━━━━━━━━\u001b[0m \u001b[32m13.5/13.5 MB\u001b[0m \u001b[31m94.3 MB/s\u001b[0m eta \u001b[36m0:00:00\u001b[0m\r\n",
      "\u001b[2K   \u001b[90m━━━━━━━━━━━━━━━━━━━━━━━━━━━━━━━━━━━━━━━━\u001b[0m \u001b[32m363.4/363.4 MB\u001b[0m \u001b[31m4.7 MB/s\u001b[0m eta \u001b[36m0:00:00\u001b[0m\r\n",
      "\u001b[2K   \u001b[90m━━━━━━━━━━━━━━━━━━━━━━━━━━━━━━━━━━━━━━━━\u001b[0m \u001b[32m664.8/664.8 MB\u001b[0m \u001b[31m2.5 MB/s\u001b[0m eta \u001b[36m0:00:00\u001b[0m\r\n",
      "\u001b[2K   \u001b[90m━━━━━━━━━━━━━━━━━━━━━━━━━━━━━━━━━━━━━━━━\u001b[0m \u001b[32m211.5/211.5 MB\u001b[0m \u001b[31m6.3 MB/s\u001b[0m eta \u001b[36m0:00:00\u001b[0m\r\n",
      "\u001b[2K   \u001b[90m━━━━━━━━━━━━━━━━━━━━━━━━━━━━━━━━━━━━━━━━\u001b[0m \u001b[32m56.3/56.3 MB\u001b[0m \u001b[31m30.5 MB/s\u001b[0m eta \u001b[36m0:00:00\u001b[0m\r\n",
      "\u001b[2K   \u001b[90m━━━━━━━━━━━━━━━━━━━━━━━━━━━━━━━━━━━━━━━━\u001b[0m \u001b[32m127.9/127.9 MB\u001b[0m \u001b[31m13.6 MB/s\u001b[0m eta \u001b[36m0:00:00\u001b[0m\r\n",
      "\u001b[2K   \u001b[90m━━━━━━━━━━━━━━━━━━━━━━━━━━━━━━━━━━━━━━━━\u001b[0m \u001b[32m207.5/207.5 MB\u001b[0m \u001b[31m2.0 MB/s\u001b[0m eta \u001b[36m0:00:00\u001b[0m\r\n",
      "\u001b[2K   \u001b[90m━━━━━━━━━━━━━━━━━━━━━━━━━━━━━━━━━━━━━━━━\u001b[0m \u001b[32m21.1/21.1 MB\u001b[0m \u001b[31m87.7 MB/s\u001b[0m eta \u001b[36m0:00:00\u001b[0m\r\n",
      "\u001b[2K   \u001b[90m━━━━━━━━━━━━━━━━━━━━━━━━━━━━━━━━━━━━━━━━\u001b[0m \u001b[32m956.3/956.3 kB\u001b[0m \u001b[31m46.0 MB/s\u001b[0m eta \u001b[36m0:00:00\u001b[0m\r\n",
      "\u001b[2K   \u001b[90m━━━━━━━━━━━━━━━━━━━━━━━━━━━━━━━━━━━━━━━━\u001b[0m \u001b[32m81.0/81.0 kB\u001b[0m \u001b[31m5.3 MB/s\u001b[0m eta \u001b[36m0:00:00\u001b[0m\r\n",
      "\u001b[2K   \u001b[90m━━━━━━━━━━━━━━━━━━━━━━━━━━━━━━━━━━━━━━━━\u001b[0m \u001b[32m85.4/85.4 kB\u001b[0m \u001b[31m4.8 MB/s\u001b[0m eta \u001b[36m0:00:00\u001b[0m\r\n",
      "\u001b[2K   \u001b[90m━━━━━━━━━━━━━━━━━━━━━━━━━━━━━━━━━━━━━━━━\u001b[0m \u001b[32m66.8/66.8 kB\u001b[0m \u001b[31m4.6 MB/s\u001b[0m eta \u001b[36m0:00:00\u001b[0m\r\n",
      "\u001b[2K   \u001b[90m━━━━━━━━━━━━━━━━━━━━━━━━━━━━━━━━━━━━━━━━\u001b[0m \u001b[32m49.9/49.9 MB\u001b[0m \u001b[31m35.6 MB/s\u001b[0m eta \u001b[36m0:00:00\u001b[0m\r\n",
      "\u001b[2K   \u001b[90m━━━━━━━━━━━━━━━━━━━━━━━━━━━━━━━━━━━━━━━━\u001b[0m \u001b[32m114.7/114.7 kB\u001b[0m \u001b[31m7.0 MB/s\u001b[0m eta \u001b[36m0:00:00\u001b[0m\r\n",
      "\u001b[2K   \u001b[90m━━━━━━━━━━━━━━━━━━━━━━━━━━━━━━━━━━━━━━━━\u001b[0m \u001b[32m62.5/62.5 MB\u001b[0m \u001b[31m28.7 MB/s\u001b[0m eta \u001b[36m0:00:00\u001b[0m\r\n",
      "\u001b[2K   \u001b[90m━━━━━━━━━━━━━━━━━━━━━━━━━━━━━━━━━━━━━━━━\u001b[0m \u001b[32m7.8/7.8 MB\u001b[0m \u001b[31m100.6 MB/s\u001b[0m eta \u001b[36m0:00:00\u001b[0m\r\n",
      "\u001b[?25h  Building wheel for pyqtree (setup.py) ... \u001b[?25l\u001b[?25hdone\r\n",
      "  Building wheel for reverse_geocoder (setup.py) ... \u001b[?25l\u001b[?25hdone\r\n",
      "  Building wheel for fire (setup.py) ... \u001b[?25l\u001b[?25hdone\r\n",
      "\u001b[31mERROR: pip's dependency resolver does not currently take into account all the packages that are installed. This behaviour is the source of the following dependency conflicts.\r\n",
      "datasets 3.6.0 requires fsspec[http]<=2025.3.0,>=2023.1.0, but you have fsspec 2025.3.2 which is incompatible.\r\n",
      "ydata-profiling 4.16.1 requires matplotlib<=3.10,>=3.5, but you have matplotlib 3.10.3 which is incompatible.\r\n",
      "category-encoders 2.7.0 requires scikit-learn<1.6.0,>=1.0.0, but you have scikit-learn 1.6.1 which is incompatible.\r\n",
      "cesium 0.12.4 requires numpy<3.0,>=2.0, but you have numpy 1.26.4 which is incompatible.\r\n",
      "google-colab 1.0.0 requires google-auth==2.38.0, but you have google-auth 2.40.1 which is incompatible.\r\n",
      "google-colab 1.0.0 requires notebook==6.5.7, but you have notebook 6.5.4 which is incompatible.\r\n",
      "google-colab 1.0.0 requires pandas==2.2.2, but you have pandas 2.2.3 which is incompatible.\r\n",
      "dopamine-rl 4.1.2 requires gymnasium>=1.0.0, but you have gymnasium 0.29.0 which is incompatible.\r\n",
      "bigframes 1.42.0 requires rich<14,>=12.4.4, but you have rich 14.0.0 which is incompatible.\r\n",
      "google-spark-connect 0.5.2 requires google-api-core>=2.19.1, but you have google-api-core 1.34.1 which is incompatible.\r\n",
      "google-cloud-bigtable 2.30.0 requires google-api-core[grpc]<3.0.0,>=2.16.0, but you have google-api-core 1.34.1 which is incompatible.\r\n",
      "google-cloud-storage 2.19.0 requires google-api-core<3.0.0dev,>=2.15.0, but you have google-api-core 1.34.1 which is incompatible.\r\n",
      "pandas-gbq 0.28.0 requires google-api-core<3.0.0dev,>=2.10.2, but you have google-api-core 1.34.1 which is incompatible.\u001b[0m\u001b[31m\r\n",
      "\u001b[0m"
     ]
    }
   ],
   "source": [
    "# Data Handling\n",
    "import pandas as pd\n",
    "import numpy as np\n",
    "\n",
    "# IO - getting files and images from MongoDB and S3\n",
    "from pymongo import MongoClient\n",
    "from kaggle_secrets import UserSecretsClient\n",
    "import requests\n",
    "\n",
    "from concurrent.futures import ThreadPoolExecutor\n",
    "\n",
    "from pathlib import Path\n",
    "from PIL import Image\n",
    "from io import BytesIO\n",
    "\n",
    "import os\n",
    "import re\n",
    "import shutil\n",
    "import json\n",
    "import time\n",
    "\n",
    "# Install speciesnet and related megadetector libraries\n",
    "!pip install -Uqq speciesnet megadetector-utils\n",
    "\n",
    "from IPython.display import display\n",
    "from IPython.display import JSON\n",
    "\n",
    "from speciesnet import SpeciesNet\n",
    "import kagglehub\n",
    "\n"
   ]
  },
  {
   "cell_type": "code",
   "execution_count": 2,
   "id": "882a8d55",
   "metadata": {
    "execution": {
     "iopub.execute_input": "2025-05-19T13:02:02.664785Z",
     "iopub.status.busy": "2025-05-19T13:02:02.664374Z",
     "iopub.status.idle": "2025-05-19T13:02:18.392351Z",
     "shell.execute_reply": "2025-05-19T13:02:18.391452Z"
    },
    "papermill": {
     "duration": 15.752726,
     "end_time": "2025-05-19T13:02:18.393908",
     "exception": false,
     "start_time": "2025-05-19T13:02:02.641182",
     "status": "completed"
    },
    "tags": []
   },
   "outputs": [
    {
     "name": "stdout",
     "output_type": "stream",
     "text": [
      "*** Running Torch tests ***\r\n",
      "\r\n",
      "Torch version: 2.6.0+cu124\r\n",
      "CUDA available (according to PyTorch): True\r\n",
      "CUDA version (according to PyTorch): 12.4\r\n",
      "CuDNN version (according to PyTorch): 90100\r\n",
      "Found 1 CUDA devices:\r\n",
      "0: Tesla P100-PCIE-16GB\r\n"
     ]
    }
   ],
   "source": [
    "# Run a quick check to see if the GPU is being used\n",
    "!python -m speciesnet.scripts.gpu_test"
   ]
  },
  {
   "cell_type": "code",
   "execution_count": 3,
   "id": "44bea6df",
   "metadata": {
    "execution": {
     "iopub.execute_input": "2025-05-19T13:02:18.441986Z",
     "iopub.status.busy": "2025-05-19T13:02:18.441280Z",
     "iopub.status.idle": "2025-05-19T13:02:18.446439Z",
     "shell.execute_reply": "2025-05-19T13:02:18.445677Z"
    },
    "papermill": {
     "duration": 0.030092,
     "end_time": "2025-05-19T13:02:18.447529",
     "exception": false,
     "start_time": "2025-05-19T13:02:18.417437",
     "status": "completed"
    },
    "tags": []
   },
   "outputs": [],
   "source": [
    "# Configuration for Multithreading and Batching\n",
    "num_batches = 10\n",
    "max_threads = 8\n",
    "output_root = Path(\"output\")\n",
    "\n",
    "# Prepare folders\n",
    "output_root.mkdir(exist_ok=True)\n",
    "images_root = Path(\"images\")\n",
    "images_root.mkdir(exist_ok=True)"
   ]
  },
  {
   "cell_type": "markdown",
   "id": "28314595",
   "metadata": {
    "papermill": {
     "duration": 0.022641,
     "end_time": "2025-05-19T13:02:18.493606",
     "exception": false,
     "start_time": "2025-05-19T13:02:18.470965",
     "status": "completed"
    },
    "tags": []
   },
   "source": [
    "## Access The URIs from S3 through MongoDB"
   ]
  },
  {
   "cell_type": "code",
   "execution_count": 4,
   "id": "1c2bb553",
   "metadata": {
    "execution": {
     "iopub.execute_input": "2025-05-19T13:02:18.540215Z",
     "iopub.status.busy": "2025-05-19T13:02:18.539375Z",
     "iopub.status.idle": "2025-05-19T13:02:25.139644Z",
     "shell.execute_reply": "2025-05-19T13:02:25.138957Z"
    },
    "papermill": {
     "duration": 6.624862,
     "end_time": "2025-05-19T13:02:25.141079",
     "exception": false,
     "start_time": "2025-05-19T13:02:18.516217",
     "status": "completed"
    },
    "tags": []
   },
   "outputs": [],
   "source": [
    "# Get the stored mongo uri secret\n",
    "user_secrets = UserSecretsClient()\n",
    "mongo_uri = user_secrets.get_secret(\"MONGO_URI\")\n",
    "\n",
    "# Connect to the MongoDB client\n",
    "client = MongoClient(mongo_uri)\n",
    " \n",
    "# Access the database and collection\n",
    "db = client['test']\n",
    "collection = db['cameratrapmedias'] \n",
    " \n",
    "# Query the collection to retrieve records with image URLs, metadata, and the first index of 'relativePath'\n",
    "data = list(collection.aggregate([\n",
    "    {\n",
    "        '$project': {\n",
    "            '_id': 0,\n",
    "            'publicURL': 1,\n",
    "            'timestamp': 1,\n",
    "            'folderName': { '$arrayElemAt': ['$relativePath', 1] },\n",
    "            'fileName': 1\n",
    "        }\n",
    "    },\n",
    "    # { '$limit': 150 }\n",
    "]))\n",
    " \n",
    "# Convert the data to a pandas DataFrame for exploration\n",
    "df = pd.DataFrame(data)\n",
    "\n",
    "# Export the small array to a CSV file for preview\n",
    "df.to_csv('ur_test_medias.csv', index=False)"
   ]
  },
  {
   "cell_type": "markdown",
   "id": "29a6785d",
   "metadata": {
    "papermill": {
     "duration": 0.022416,
     "end_time": "2025-05-19T13:02:25.186600",
     "exception": false,
     "start_time": "2025-05-19T13:02:25.164184",
     "status": "completed"
    },
    "tags": []
   },
   "source": [
    "## We are going to create a column that creates a file name to save the image"
   ]
  },
  {
   "cell_type": "code",
   "execution_count": 5,
   "id": "de0c82cd",
   "metadata": {
    "execution": {
     "iopub.execute_input": "2025-05-19T13:02:25.279334Z",
     "iopub.status.busy": "2025-05-19T13:02:25.279039Z",
     "iopub.status.idle": "2025-05-19T13:02:25.564896Z",
     "shell.execute_reply": "2025-05-19T13:02:25.563755Z"
    },
    "papermill": {
     "duration": 0.357178,
     "end_time": "2025-05-19T13:02:25.566333",
     "exception": false,
     "start_time": "2025-05-19T13:02:25.209155",
     "status": "completed"
    },
    "tags": []
   },
   "outputs": [
    {
     "name": "stdout",
     "output_type": "stream",
     "text": [
      "            timestamp                                          publicURL  \\\n",
      "0 2024-01-27 13:33:15  https://urbanriverrangers.s3.amazonaws.com/ima...   \n",
      "1 2024-01-24 18:56:50  https://urbanriverrangers.s3.amazonaws.com/ima...   \n",
      "2 2024-01-24 19:01:54  https://urbanriverrangers.s3.amazonaws.com/ima...   \n",
      "3 2024-01-24 19:03:05  https://urbanriverrangers.s3.amazonaws.com/ima...   \n",
      "4 2024-01-24 19:04:19  https://urbanriverrangers.s3.amazonaws.com/ima...   \n",
      "\n",
      "       fileName                               folderName  \\\n",
      "0  SYFW0060.JPG                   2024-01-30_prologis_02   \n",
      "1  SYFW0001.JPG  2024-01-30_Learnin_platform_camera_test   \n",
      "2  SYFW0002.JPG  2024-01-30_Learnin_platform_camera_test   \n",
      "3  SYFW0004.JPG  2024-01-30_Learnin_platform_camera_test   \n",
      "4  SYFW0006.JPG  2024-01-30_Learnin_platform_camera_test   \n",
      "\n",
      "                                           imageName  \n",
      "0               2024-01-30_prologis_02--SYFW0060.JPG  \n",
      "1  2024-01-30_Learnin_platform_camera_test--SYFW0...  \n",
      "2  2024-01-30_Learnin_platform_camera_test--SYFW0...  \n",
      "3  2024-01-30_Learnin_platform_camera_test--SYFW0...  \n",
      "4  2024-01-30_Learnin_platform_camera_test--SYFW0...  \n"
     ]
    }
   ],
   "source": [
    "# This function will format the final string\n",
    "def make_filename(s):\n",
    "    # s = s.lower()\n",
    "    s = re.sub(r'[^\\w\\s.-]', '', s) # remove special characters except dash or underscore or period\n",
    "    s = re.sub(r'\\s+', '_', s) # replace whitespace with underscore\n",
    "    return s\n",
    "\n",
    "# Combine the relative path second (folder name) + fileName\n",
    "df['imageName'] = df['folderName'] + '--' + df['fileName']\n",
    "df['imageName'] = df['imageName'].apply(make_filename)\n",
    "\n",
    "print(df.head())"
   ]
  },
  {
   "cell_type": "markdown",
   "id": "c60eddcd",
   "metadata": {
    "papermill": {
     "duration": 0.022002,
     "end_time": "2025-05-19T13:02:25.611799",
     "exception": false,
     "start_time": "2025-05-19T13:02:25.589797",
     "status": "completed"
    },
    "tags": []
   },
   "source": [
    "Now that we have a connection to the MongoDB server and access to the URLs, let's use the download images."
   ]
  },
  {
   "cell_type": "markdown",
   "id": "024ff45d",
   "metadata": {
    "papermill": {
     "duration": 0.022013,
     "end_time": "2025-05-19T13:02:25.656025",
     "exception": false,
     "start_time": "2025-05-19T13:02:25.634012",
     "status": "completed"
    },
    "tags": []
   },
   "source": [
    "## Download Images"
   ]
  },
  {
   "cell_type": "code",
   "execution_count": 6,
   "id": "bfd6ec38",
   "metadata": {
    "_kg_hide-output": true,
    "execution": {
     "iopub.execute_input": "2025-05-19T13:02:25.701269Z",
     "iopub.status.busy": "2025-05-19T13:02:25.701021Z",
     "iopub.status.idle": "2025-05-19T13:20:40.630924Z",
     "shell.execute_reply": "2025-05-19T13:20:40.630010Z"
    },
    "papermill": {
     "duration": 1094.978651,
     "end_time": "2025-05-19T13:20:40.656573",
     "exception": false,
     "start_time": "2025-05-19T13:02:25.677922",
     "status": "completed"
    },
    "tags": []
   },
   "outputs": [
    {
     "name": "stdout",
     "output_type": "stream",
     "text": [
      "Processing batch 1 / 10 with 1000 images...\n"
     ]
    },
    {
     "name": "stderr",
     "output_type": "stream",
     "text": [
      "/usr/local/lib/python3.11/dist-packages/numpy/core/fromnumeric.py:59: FutureWarning: 'DataFrame.swapaxes' is deprecated and will be removed in a future version. Please use 'DataFrame.transpose' instead.\n",
      "  return bound(*args, **kwds)\n"
     ]
    },
    {
     "name": "stdout",
     "output_type": "stream",
     "text": [
      "Batch 1 took 147.00 seconds.\n",
      "Processing batch 2 / 10 with 1000 images...\n",
      "Batch 2 took 138.80 seconds.\n",
      "Processing batch 3 / 10 with 1000 images...\n",
      "Batch 3 took 98.17 seconds.\n",
      "Processing batch 4 / 10 with 1000 images...\n",
      "Batch 4 took 95.22 seconds.\n",
      "Processing batch 5 / 10 with 1000 images...\n",
      "Batch 5 took 101.32 seconds.\n",
      "Processing batch 6 / 10 with 1000 images...\n",
      "Batch 6 took 107.54 seconds.\n",
      "Processing batch 7 / 10 with 1000 images...\n",
      "Batch 7 took 105.00 seconds.\n",
      "Processing batch 8 / 10 with 1000 images...\n",
      "Batch 8 took 93.59 seconds.\n",
      "Processing batch 9 / 10 with 1000 images...\n",
      "Batch 9 took 103.89 seconds.\n",
      "Processing batch 10 / 10 with 1000 images...\n",
      "Batch 10 took 104.37 seconds.\n",
      "500 Images Downloaded and Resized\n",
      "CPU times: user 39min 14s, sys: 4min 30s, total: 43min 44s\n",
      "Wall time: 18min 14s\n"
     ]
    }
   ],
   "source": [
    "%%time\n",
    "# Create a directory to save the images\n",
    "output_root.mkdir(exist_ok=True)\n",
    "path = Path('images')\n",
    "path.mkdir(exist_ok=True)\n",
    "\n",
    "# Create a tool for resizing so cropping top and bottom can happen while keeping the aspect ratio\n",
    "def resize_to_height(image, target_height=256):\n",
    "    og_width, og_height = image.size\n",
    "    new_width = int(og_width * (target_height / og_height))\n",
    "    return image.resize((new_width, target_height))\n",
    "\n",
    "# Create a tool for downloading and processing images\n",
    "def process_row(row, dest_folder):\n",
    "    url = row['publicURL']\n",
    "    filename = row['imageName']\n",
    "    # Download the image\n",
    "    dest = dest_folder/filename\n",
    "\n",
    "    try:\n",
    "        # Download image to memory\n",
    "        response = requests.get(url)\n",
    "        response.raise_for_status()\n",
    "\n",
    "        # Open and process the image\n",
    "        image = Image.open(BytesIO(response.content)).convert(\"RGB\")\n",
    "        image = resize_to_height(image, target_height=256)\n",
    "        image.save(dest, format=\"JPEG\", quality=85)\n",
    "        \n",
    "    except Exception as e:\n",
    "        print(f\"failed to process{filename}: {e}\")\n",
    "\n",
    "# Download and display some images where at least an animal was found - ex rat\n",
    "df_test = df[44410:44910] # 500 images with some known animal detections\n",
    "df_big_chunk = df[0:10000] # first 10000 images\n",
    "\n",
    "# Process Batches\n",
    "for batch_idx, df_chunk in enumerate(np.array_split(df_big_chunk, num_batches)): # change to df_test to split a test batch size\n",
    "    batch_folder = images_root / f'batch_{batch_idx}'\n",
    "    batch_folder.mkdir(exist_ok=True)\n",
    "\n",
    "    print(f'Processing batch {batch_idx + 1} / {num_batches} with {len(df_chunk)} images...')\n",
    "\n",
    "    start = time.time()\n",
    "    \n",
    "    with ThreadPoolExecutor(max_workers=max_threads) as executor:\n",
    "        executor.map(lambda row: process_row(row, batch_folder), [row for _, row in df_chunk.iterrows()])\n",
    "\n",
    "    end = time.time()\n",
    "    print(f\"Batch {batch_idx+1} took {end - start:.2f} seconds.\")\n",
    "        \n",
    "print(f'{len(df_test)} Images Downloaded and Resized')"
   ]
  },
  {
   "cell_type": "code",
   "execution_count": 7,
   "id": "05123330",
   "metadata": {
    "execution": {
     "iopub.execute_input": "2025-05-19T13:20:40.704224Z",
     "iopub.status.busy": "2025-05-19T13:20:40.703999Z",
     "iopub.status.idle": "2025-05-19T13:20:40.709789Z",
     "shell.execute_reply": "2025-05-19T13:20:40.709110Z"
    },
    "papermill": {
     "duration": 0.030673,
     "end_time": "2025-05-19T13:20:40.710830",
     "exception": false,
     "start_time": "2025-05-19T13:20:40.680157",
     "status": "completed"
    },
    "tags": []
   },
   "outputs": [
    {
     "data": {
      "application/json": {
       "cell": {
        "!": "OSMagics",
        "HTML": "Other",
        "SVG": "Other",
        "bash": "Other",
        "capture": "ExecutionMagics",
        "debug": "ExecutionMagics",
        "file": "Other",
        "html": "DisplayMagics",
        "javascript": "DisplayMagics",
        "js": "DisplayMagics",
        "latex": "DisplayMagics",
        "markdown": "DisplayMagics",
        "perl": "Other",
        "prun": "ExecutionMagics",
        "pypy": "Other",
        "python": "Other",
        "python2": "Other",
        "python3": "Other",
        "ruby": "Other",
        "script": "ScriptMagics",
        "sh": "Other",
        "svg": "DisplayMagics",
        "sx": "OSMagics",
        "system": "OSMagics",
        "time": "ExecutionMagics",
        "timeit": "ExecutionMagics",
        "writefile": "OSMagics"
       },
       "line": {
        "alias": "OSMagics",
        "alias_magic": "BasicMagics",
        "autoawait": "AsyncMagics",
        "autocall": "AutoMagics",
        "automagic": "AutoMagics",
        "autosave": "KernelMagics",
        "bookmark": "OSMagics",
        "cat": "Other",
        "cd": "OSMagics",
        "clear": "KernelMagics",
        "colors": "BasicMagics",
        "conda": "PackagingMagics",
        "config": "ConfigMagics",
        "connect_info": "KernelMagics",
        "cp": "Other",
        "debug": "ExecutionMagics",
        "dhist": "OSMagics",
        "dirs": "OSMagics",
        "doctest_mode": "BasicMagics",
        "ed": "Other",
        "edit": "KernelMagics",
        "env": "OSMagics",
        "gui": "BasicMagics",
        "hist": "Other",
        "history": "HistoryMagics",
        "killbgscripts": "ScriptMagics",
        "ldir": "Other",
        "less": "KernelMagics",
        "lf": "Other",
        "lk": "Other",
        "ll": "Other",
        "load": "CodeMagics",
        "load_ext": "ExtensionMagics",
        "loadpy": "CodeMagics",
        "logoff": "LoggingMagics",
        "logon": "LoggingMagics",
        "logstart": "LoggingMagics",
        "logstate": "LoggingMagics",
        "logstop": "LoggingMagics",
        "ls": "Other",
        "lsmagic": "BasicMagics",
        "lx": "Other",
        "macro": "ExecutionMagics",
        "magic": "BasicMagics",
        "man": "KernelMagics",
        "matplotlib": "PylabMagics",
        "mkdir": "Other",
        "more": "KernelMagics",
        "mv": "Other",
        "notebook": "BasicMagics",
        "page": "BasicMagics",
        "pastebin": "CodeMagics",
        "pdb": "ExecutionMagics",
        "pdef": "NamespaceMagics",
        "pdoc": "NamespaceMagics",
        "pfile": "NamespaceMagics",
        "pinfo": "NamespaceMagics",
        "pinfo2": "NamespaceMagics",
        "pip": "PackagingMagics",
        "popd": "OSMagics",
        "pprint": "BasicMagics",
        "precision": "BasicMagics",
        "prun": "ExecutionMagics",
        "psearch": "NamespaceMagics",
        "psource": "NamespaceMagics",
        "pushd": "OSMagics",
        "pwd": "OSMagics",
        "pycat": "OSMagics",
        "pylab": "PylabMagics",
        "qtconsole": "KernelMagics",
        "quickref": "BasicMagics",
        "recall": "HistoryMagics",
        "rehashx": "OSMagics",
        "reload_ext": "ExtensionMagics",
        "rep": "Other",
        "rerun": "HistoryMagics",
        "reset": "NamespaceMagics",
        "reset_selective": "NamespaceMagics",
        "rm": "Other",
        "rmdir": "Other",
        "run": "ExecutionMagics",
        "save": "CodeMagics",
        "sc": "OSMagics",
        "set_env": "OSMagics",
        "store": "StoreMagics",
        "sx": "OSMagics",
        "system": "OSMagics",
        "tb": "ExecutionMagics",
        "time": "ExecutionMagics",
        "timeit": "ExecutionMagics",
        "unalias": "OSMagics",
        "unload_ext": "ExtensionMagics",
        "who": "NamespaceMagics",
        "who_ls": "NamespaceMagics",
        "whos": "NamespaceMagics",
        "xdel": "NamespaceMagics",
        "xmode": "BasicMagics"
       }
      },
      "text/plain": [
       "Available line magics:\n",
       "%alias  %alias_magic  %autoawait  %autocall  %automagic  %autosave  %bookmark  %cat  %cd  %clear  %colors  %conda  %config  %connect_info  %cp  %debug  %dhist  %dirs  %doctest_mode  %ed  %edit  %env  %gui  %hist  %history  %killbgscripts  %ldir  %less  %lf  %lk  %ll  %load  %load_ext  %loadpy  %logoff  %logon  %logstart  %logstate  %logstop  %ls  %lsmagic  %lx  %macro  %magic  %man  %matplotlib  %mkdir  %more  %mv  %notebook  %page  %pastebin  %pdb  %pdef  %pdoc  %pfile  %pinfo  %pinfo2  %pip  %popd  %pprint  %precision  %prun  %psearch  %psource  %pushd  %pwd  %pycat  %pylab  %qtconsole  %quickref  %recall  %rehashx  %reload_ext  %rep  %rerun  %reset  %reset_selective  %rm  %rmdir  %run  %save  %sc  %set_env  %store  %sx  %system  %tb  %time  %timeit  %unalias  %unload_ext  %who  %who_ls  %whos  %xdel  %xmode\n",
       "\n",
       "Available cell magics:\n",
       "%%!  %%HTML  %%SVG  %%bash  %%capture  %%debug  %%file  %%html  %%javascript  %%js  %%latex  %%markdown  %%perl  %%prun  %%pypy  %%python  %%python2  %%python3  %%ruby  %%script  %%sh  %%svg  %%sx  %%system  %%time  %%timeit  %%writefile\n",
       "\n",
       "Automagic is ON, % prefix IS NOT needed for line magics."
      ]
     },
     "execution_count": 7,
     "metadata": {},
     "output_type": "execute_result"
    }
   ],
   "source": [
    "# Uncomment and run this if the images need to be redone\n",
    "# !rm images -r\n",
    "# !rm docs.zip\n",
    "%lsmagic"
   ]
  },
  {
   "cell_type": "markdown",
   "id": "0ab71bac",
   "metadata": {
    "papermill": {
     "duration": 0.022974,
     "end_time": "2025-05-19T13:20:40.757543",
     "exception": false,
     "start_time": "2025-05-19T13:20:40.734569",
     "status": "completed"
    },
    "tags": []
   },
   "source": [
    "## Running Species Net on the Full Dataset\n",
    "Now that we have the max number of images downloaded (19.5GB) let's run speciesnet\n",
    "\n",
    "Note there might be a better way of doing this using bytes downloaded from s3 - but I haven't figured that part out yet.\n",
    "\n",
    "### We're going to try a multithreading chunks approach"
   ]
  },
  {
   "cell_type": "code",
   "execution_count": 8,
   "id": "f02cdd0f",
   "metadata": {
    "execution": {
     "iopub.execute_input": "2025-05-19T13:20:40.804671Z",
     "iopub.status.busy": "2025-05-19T13:20:40.804259Z",
     "iopub.status.idle": "2025-05-19T13:20:40.808187Z",
     "shell.execute_reply": "2025-05-19T13:20:40.807480Z"
    },
    "papermill": {
     "duration": 0.02876,
     "end_time": "2025-05-19T13:20:40.809256",
     "exception": false,
     "start_time": "2025-05-19T13:20:40.780496",
     "status": "completed"
    },
    "tags": []
   },
   "outputs": [],
   "source": [
    "def print_predictions(predictions_dict: dict) -> None:\n",
    "    print(\"Predictions:\")\n",
    "    for prediction in predictions_dict[\"predictions\"][0:1]:\n",
    "        print(prediction[\"filepath\"], \"=>\", prediction[\"prediction\"])"
   ]
  },
  {
   "cell_type": "markdown",
   "id": "eec110e9",
   "metadata": {
    "papermill": {
     "duration": 0.022813,
     "end_time": "2025-05-19T13:20:40.855207",
     "exception": false,
     "start_time": "2025-05-19T13:20:40.832394",
     "status": "completed"
    },
    "tags": []
   },
   "source": [
    "### Download Model"
   ]
  },
  {
   "cell_type": "code",
   "execution_count": 9,
   "id": "c29ae83d",
   "metadata": {
    "execution": {
     "iopub.execute_input": "2025-05-19T13:20:40.902748Z",
     "iopub.status.busy": "2025-05-19T13:20:40.902089Z",
     "iopub.status.idle": "2025-05-19T13:20:45.823960Z",
     "shell.execute_reply": "2025-05-19T13:20:45.822812Z"
    },
    "papermill": {
     "duration": 4.947063,
     "end_time": "2025-05-19T13:20:45.825485",
     "exception": false,
     "start_time": "2025-05-19T13:20:40.878422",
     "status": "completed"
    },
    "tags": []
   },
   "outputs": [
    {
     "name": "stdout",
     "output_type": "stream",
     "text": [
      "Model downloaded to temporary folder: /kaggle/input/speciesnet/pytorch/v4.0.1a/1\n",
      "6 files copied to: /content/models\n"
     ]
    }
   ],
   "source": [
    "# Choose the folder we're going to download the model to\n",
    "model_path = '/content/models'\n",
    "os.makedirs(model_path, exist_ok=True)\n",
    "\n",
    "# Download the model (it will go to a folder like /kaggle/input/...)\n",
    "download_path = kagglehub.model_download('google/speciesnet/PyTorch/v4.0.1a',\n",
    "                                          force_download=True)\n",
    "\n",
    "print('Model downloaded to temporary folder: {}'.format(download_path))\n",
    "\n",
    "# List the contents of the downloaded directory to identify the actual files/subdirectories\n",
    "model_files = os.listdir(download_path)\n",
    "\n",
    "# Copy the contents of the model file to our destination folder\n",
    "for item_name in model_files:\n",
    "    source_path = os.path.join(download_path, item_name)\n",
    "    destination_path = os.path.join(model_path, item_name)\n",
    "    if os.path.isfile(source_path):\n",
    "        shutil.copy2(source_path, destination_path)\n",
    "    elif os.path.isdir(source_path):\n",
    "        shutil.copytree(source_path, destination_path, dirs_exist_ok=True)\n",
    "\n",
    "print('{} files copied to: {}'.format(len(model_files),model_path))"
   ]
  },
  {
   "cell_type": "code",
   "execution_count": 10,
   "id": "8ba965a9",
   "metadata": {
    "execution": {
     "iopub.execute_input": "2025-05-19T13:20:45.875263Z",
     "iopub.status.busy": "2025-05-19T13:20:45.874689Z",
     "iopub.status.idle": "2025-05-19T13:20:50.661732Z",
     "shell.execute_reply": "2025-05-19T13:20:50.660777Z"
    },
    "papermill": {
     "duration": 4.813518,
     "end_time": "2025-05-19T13:20:50.663287",
     "exception": false,
     "start_time": "2025-05-19T13:20:45.849769",
     "status": "completed"
    },
    "tags": []
   },
   "outputs": [
    {
     "name": "stdout",
     "output_type": "stream",
     "text": [
      "Model Loaded\n"
     ]
    }
   ],
   "source": [
    "# Pick the model we want to use (4.0.1a)\n",
    "model = SpeciesNet(model_path)\n",
    "\n",
    "print('Model Loaded')"
   ]
  },
  {
   "cell_type": "code",
   "execution_count": 11,
   "id": "ce73df63",
   "metadata": {
    "execution": {
     "iopub.execute_input": "2025-05-19T13:20:50.715841Z",
     "iopub.status.busy": "2025-05-19T13:20:50.715219Z",
     "iopub.status.idle": "2025-05-19T13:37:30.254525Z",
     "shell.execute_reply": "2025-05-19T13:37:30.253668Z"
    },
    "papermill": {
     "duration": 999.590736,
     "end_time": "2025-05-19T13:37:30.280446",
     "exception": false,
     "start_time": "2025-05-19T13:20:50.689710",
     "status": "completed"
    },
    "tags": []
   },
   "outputs": [
    {
     "name": "stdout",
     "output_type": "stream",
     "text": [
      "{'filepath': 'images/batch_0/2024-02-01_16-41-42--SYEW0598.JPG', 'latitude': 41.906782, 'longitude': -87.651927}\n",
      "CPU times: user 3min 51s, sys: 2 s, total: 3min 53s\n",
      "Wall time: 1min 53s\n",
      "Predictions:\n",
      "images/batch_0/2024-02-01_16-41-42--SYEW0598.JPG => f1856211-cfb7-4a5b-9158-c0f72fd09ee6;;;;;;blank\n",
      "predictions_dict_0.json saved to images/batch_0\n",
      "{'filepath': 'images/batch_1/2024-02-01_Bubbly_003--SYFW0254.JPG', 'latitude': 41.906782, 'longitude': -87.651927}\n",
      "CPU times: user 3min 56s, sys: 2.46 s, total: 3min 58s\n",
      "Wall time: 1min 56s\n",
      "Predictions:\n",
      "images/batch_1/2024-02-01_Bubbly_003--SYFW0254.JPG => f1856211-cfb7-4a5b-9158-c0f72fd09ee6;;;;;;blank\n",
      "predictions_dict_1.json saved to images/batch_1\n",
      "{'filepath': 'images/batch_2/2024-02-01_Bubbly_spypoint_garden--HDPH0710.JPG', 'latitude': 41.906782, 'longitude': -87.651927}\n",
      "CPU times: user 3min 15s, sys: 1.73 s, total: 3min 17s\n",
      "Wall time: 1min 36s\n",
      "Predictions:\n",
      "images/batch_2/2024-02-01_Bubbly_spypoint_garden--HDPH0710.JPG => f1856211-cfb7-4a5b-9158-c0f72fd09ee6;;;;;;blank\n",
      "predictions_dict_2.json saved to images/batch_2\n",
      "{'filepath': 'images/batch_3/2024-02-01_Bubbly_spypoint_garden--HDPH1844.JPG', 'latitude': 41.906782, 'longitude': -87.651927}\n",
      "CPU times: user 3min 15s, sys: 1.33 s, total: 3min 16s\n",
      "Wall time: 1min 35s\n",
      "Predictions:\n",
      "images/batch_3/2024-02-01_Bubbly_spypoint_garden--HDPH1844.JPG => 797b2c80-4b99-45ec-b73f-5fd62bbb93a8;mammalia;cetartiodactyla;;;;cetartiodactyla order\n",
      "predictions_dict_3.json saved to images/batch_3\n",
      "{'filepath': 'images/batch_4/2024-02-01_Bubbly_spypoint_garden--HDPH2253.JPG', 'latitude': 41.906782, 'longitude': -87.651927}\n",
      "CPU times: user 3min 16s, sys: 1.48 s, total: 3min 17s\n",
      "Wall time: 1min 36s\n",
      "Predictions:\n",
      "images/batch_4/2024-02-01_Bubbly_spypoint_garden--HDPH2253.JPG => f1856211-cfb7-4a5b-9158-c0f72fd09ee6;;;;;;blank\n",
      "predictions_dict_4.json saved to images/batch_4\n",
      "{'filepath': 'images/batch_5/2024-02-01_Bubbly_spypoint_garden--HDPH3059.JPG', 'latitude': 41.906782, 'longitude': -87.651927}\n",
      "CPU times: user 3min 16s, sys: 1.5 s, total: 3min 18s\n",
      "Wall time: 1min 36s\n",
      "Predictions:\n",
      "images/batch_5/2024-02-01_Bubbly_spypoint_garden--HDPH3059.JPG => f1856211-cfb7-4a5b-9158-c0f72fd09ee6;;;;;;blank\n",
      "predictions_dict_5.json saved to images/batch_5\n",
      "{'filepath': 'images/batch_6/2024-02-01_Bubbly_spypoint_garden--HDPH4248.JPG', 'latitude': 41.906782, 'longitude': -87.651927}\n",
      "CPU times: user 3min 16s, sys: 1.4 s, total: 3min 18s\n",
      "Wall time: 1min 36s\n",
      "Predictions:\n",
      "images/batch_6/2024-02-01_Bubbly_spypoint_garden--HDPH4248.JPG => f1856211-cfb7-4a5b-9158-c0f72fd09ee6;;;;;;blank\n",
      "predictions_dict_6.json saved to images/batch_6\n",
      "{'filepath': 'images/batch_7/2024-02-01_Bubbly_spypoint_garden--HDPH5511.JPG', 'latitude': 41.906782, 'longitude': -87.651927}\n",
      "CPU times: user 3min 15s, sys: 1.23 s, total: 3min 16s\n",
      "Wall time: 1min 35s\n",
      "Predictions:\n",
      "images/batch_7/2024-02-01_Bubbly_spypoint_garden--HDPH5511.JPG => f1856211-cfb7-4a5b-9158-c0f72fd09ee6;;;;;;blank\n",
      "predictions_dict_7.json saved to images/batch_7\n",
      "{'filepath': 'images/batch_8/2024-02-01_Bubbly_spypoint_garden--HDPH6122.JPG', 'latitude': 41.906782, 'longitude': -87.651927}\n",
      "CPU times: user 3min 16s, sys: 1.52 s, total: 3min 18s\n",
      "Wall time: 1min 36s\n",
      "Predictions:\n",
      "images/batch_8/2024-02-01_Bubbly_spypoint_garden--HDPH6122.JPG => f1856211-cfb7-4a5b-9158-c0f72fd09ee6;;;;;;blank\n",
      "predictions_dict_8.json saved to images/batch_8\n",
      "{'filepath': 'images/batch_9/2024-02-01_Bubbly_spypoint_garden--HDPH7089.JPG', 'latitude': 41.906782, 'longitude': -87.651927}\n",
      "CPU times: user 3min 16s, sys: 1.47 s, total: 3min 18s\n",
      "Wall time: 1min 36s\n",
      "Predictions:\n",
      "images/batch_9/2024-02-01_Bubbly_spypoint_garden--HDPH7089.JPG => f1856211-cfb7-4a5b-9158-c0f72fd09ee6;;;;;;blank\n",
      "predictions_dict_9.json saved to images/batch_9\n"
     ]
    }
   ],
   "source": [
    "# Let's format a request string as a list of dicts (aka JSON string format)\n",
    "def create_instances(batch_folder):\n",
    "    image_paths = [f'{batch_folder}/{f}' for f in os.listdir(batch_folder) if f.lower().endswith('.jpg')]\n",
    "\n",
    "    instances = []\n",
    "    for image_path in image_paths:\n",
    "        instances.append({\n",
    "            'filepath': image_path,\n",
    "            'latitude': 41.906782,\n",
    "            'longitude': -87.651927\n",
    "        })\n",
    "\n",
    "    # Check that it's saved correctly by verifying the first\n",
    "    print(instances[0])\n",
    "\n",
    "    return instances\n",
    "\n",
    "\n",
    "for batch_index in range(len(os.listdir(images_root))):\n",
    "    instances = create_instances(f'{images_root}/batch_{batch_index}')\n",
    "\n",
    "    # make the predictions and get a sense of how long it would take\n",
    "    %time predictions_dict = model.predict(instances_dict={\"instances\": instances})\n",
    "\n",
    "    print_predictions(predictions_dict) # show the first prediction of each batch\n",
    "\n",
    "    # Save the dict to the batch folder\n",
    "    with open(f'{images_root}/batch_{batch_index}/predictions_dict_{batch_index}.json', 'w') as f:\n",
    "        json.dump(predictions_dict, f, indent=2)\n",
    "\n",
    "    print(f'predictions_dict_{batch_index}.json saved to {images_root}/batch_{batch_index}')"
   ]
  },
  {
   "cell_type": "code",
   "execution_count": 12,
   "id": "bf7d9d40",
   "metadata": {
    "execution": {
     "iopub.execute_input": "2025-05-19T13:37:30.333269Z",
     "iopub.status.busy": "2025-05-19T13:37:30.333006Z",
     "iopub.status.idle": "2025-05-19T13:37:30.336229Z",
     "shell.execute_reply": "2025-05-19T13:37:30.335688Z"
    },
    "papermill": {
     "duration": 0.030364,
     "end_time": "2025-05-19T13:37:30.337361",
     "exception": false,
     "start_time": "2025-05-19T13:37:30.306997",
     "status": "completed"
    },
    "tags": []
   },
   "outputs": [],
   "source": [
    "# !rm images/batch_*/predictions*"
   ]
  },
  {
   "cell_type": "markdown",
   "id": "25336f89",
   "metadata": {
    "papermill": {
     "duration": 0.023838,
     "end_time": "2025-05-19T13:37:30.384909",
     "exception": false,
     "start_time": "2025-05-19T13:37:30.361071",
     "status": "completed"
    },
    "tags": []
   },
   "source": [
    "## Let's save the predictions dict json file"
   ]
  },
  {
   "cell_type": "code",
   "execution_count": 13,
   "id": "6c8d8c71",
   "metadata": {
    "execution": {
     "iopub.execute_input": "2025-05-19T13:37:30.433282Z",
     "iopub.status.busy": "2025-05-19T13:37:30.433053Z",
     "iopub.status.idle": "2025-05-19T13:37:32.351641Z",
     "shell.execute_reply": "2025-05-19T13:37:32.350655Z"
    },
    "papermill": {
     "duration": 1.94502,
     "end_time": "2025-05-19T13:37:32.353826",
     "exception": false,
     "start_time": "2025-05-19T13:37:30.408806",
     "status": "completed"
    },
    "tags": []
   },
   "outputs": [
    {
     "name": "stdout",
     "output_type": "stream",
     "text": [
      "Loading results from /kaggle/working/output/predictions_dict_master.json\r\n",
      "Traceback (most recent call last):\r\n",
      "  File \"<frozen runpy>\", line 198, in _run_module_as_main\r\n",
      "  File \"<frozen runpy>\", line 88, in _run_code\r\n",
      "  File \"/usr/local/lib/python3.11/dist-packages/megadetector/postprocessing/postprocess_batch_results.py\", line 2058, in <module>\r\n",
      "    main()\r\n",
      "  File \"/usr/local/lib/python3.11/dist-packages/megadetector/postprocessing/postprocess_batch_results.py\", line 2052, in main\r\n",
      "    ppresults = process_batch_results(options)\r\n",
      "                ^^^^^^^^^^^^^^^^^^^^^^^^^^^^^^\r\n",
      "  File \"/usr/local/lib/python3.11/dist-packages/megadetector/postprocessing/postprocess_batch_results.py\", line 1026, in process_batch_results\r\n",
      "    detections_df, other_fields = load_api_results(\r\n",
      "                                  ^^^^^^^^^^^^^^^^^\r\n",
      "  File \"/usr/local/lib/python3.11/dist-packages/megadetector/postprocessing/load_api_results.py\", line 54, in load_api_results\r\n",
      "    detection_results = load_md_or_speciesnet_file(api_output_path)\r\n",
      "                        ^^^^^^^^^^^^^^^^^^^^^^^^^^^^^^^^^^^^^^^^^^^\r\n",
      "  File \"/usr/local/lib/python3.11/dist-packages/megadetector/utils/wi_utils.py\", line 1632, in load_md_or_speciesnet_file\r\n",
      "    with open(fn,'r') as f:\r\n",
      "         ^^^^^^^^^^^^\r\n",
      "FileNotFoundError: [Errno 2] No such file or directory: '/kaggle/working/output/predictions_dict_master.json'\r\n"
     ]
    }
   ],
   "source": [
    "# Create a docs folder for previewing the images\n",
    "output_path = '/kaggle/working/output/docs'\n",
    "os.makedirs(output_path, exist_ok=True)\n",
    "\n",
    "!python -m megadetector.postprocessing.postprocess_batch_results /kaggle/working/output/predictions_dict_master.json /kaggle/working/output/docs"
   ]
  },
  {
   "cell_type": "markdown",
   "id": "3cd6faa6",
   "metadata": {
    "papermill": {
     "duration": 0.02379,
     "end_time": "2025-05-19T13:37:32.402222",
     "exception": false,
     "start_time": "2025-05-19T13:37:32.378432",
     "status": "completed"
    },
    "tags": []
   },
   "source": [
    "## Let's zip the folder so we can easily download it"
   ]
  },
  {
   "cell_type": "code",
   "execution_count": 14,
   "id": "7e91121b",
   "metadata": {
    "execution": {
     "iopub.execute_input": "2025-05-19T13:37:32.451501Z",
     "iopub.status.busy": "2025-05-19T13:37:32.451234Z",
     "iopub.status.idle": "2025-05-19T13:37:32.456220Z",
     "shell.execute_reply": "2025-05-19T13:37:32.455521Z"
    },
    "papermill": {
     "duration": 0.031365,
     "end_time": "2025-05-19T13:37:32.457388",
     "exception": false,
     "start_time": "2025-05-19T13:37:32.426023",
     "status": "completed"
    },
    "tags": []
   },
   "outputs": [],
   "source": [
    "shutil.make_archive('/kaggle/working/output/docs', 'zip', '/kaggle/working/output/docs')\n",
    "\n",
    "# and finally clean up the tree that made it this far\n",
    "shutil.rmtree('/kaggle/working/output/docs')  # Deletes the folder\n"
   ]
  }
 ],
 "metadata": {
  "kaggle": {
   "accelerator": "gpu",
   "dataSources": [
    {
     "modelId": 247762,
     "modelInstanceId": 291118,
     "sourceId": 348614,
     "sourceType": "modelInstanceVersion"
    }
   ],
   "isGpuEnabled": true,
   "isInternetEnabled": true,
   "language": "python",
   "sourceType": "notebook"
  },
  "kernelspec": {
   "display_name": "Python 3",
   "language": "python",
   "name": "python3"
  },
  "language_info": {
   "codemirror_mode": {
    "name": "ipython",
    "version": 3
   },
   "file_extension": ".py",
   "mimetype": "text/x-python",
   "name": "python",
   "nbconvert_exporter": "python",
   "pygments_lexer": "ipython3",
   "version": "3.11.11"
  },
  "papermill": {
   "default_parameters": {},
   "duration": 2271.779668,
   "end_time": "2025-05-19T13:37:35.521449",
   "environment_variables": {},
   "exception": null,
   "input_path": "__notebook__.ipynb",
   "output_path": "__notebook__.ipynb",
   "parameters": {},
   "start_time": "2025-05-19T12:59:43.741781",
   "version": "2.6.0"
  }
 },
 "nbformat": 4,
 "nbformat_minor": 5
}
