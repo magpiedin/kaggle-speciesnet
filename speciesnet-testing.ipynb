{
 "cells": [
  {
   "cell_type": "code",
   "execution_count": null,
   "id": "4e1a008a",
   "metadata": {},
   "outputs": [],
   "source": [
    "# Install and upgrade speciesnet quietly\n",
    "! pip install -Uqq speciesnet"
   ]
  }
 ],
 "metadata": {
  "language_info": {
   "name": "python"
  }
 },
 "nbformat": 4,
 "nbformat_minor": 5
}
