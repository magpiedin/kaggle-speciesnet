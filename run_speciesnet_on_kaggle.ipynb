{
  "cells": [
    {
      "cell_type": "markdown",
      "metadata": {
        "colab_type": "text",
        "id": "view-in-github"
      },
      "source": [
        "<a href=\"https://colab.research.google.com/github/morescode-pm/kaggle-speciesnet/blob/test-speciesnet-raw/run_speciesnet_on_kaggle.ipynb\" target=\"_parent\"><img src=\"https://colab.research.google.com/assets/colab-badge.svg\" alt=\"Open In Colab\"/></a>"
      ]
    },
    {
      "cell_type": "markdown",
      "metadata": {
        "id": "KHG-Foa2I8mA"
      },
      "source": [
        "# SpeciesNet Colab demo\n",
        "\n",
        "This notebook:\n",
        "\n",
        "* Installs the speciesnet package\n",
        "* Downloads the model\n",
        "* Copies it to a writeable folder before using it\n",
        "* Downloads two test images from this repo\n",
        "* Processes them using both the CLI (i.e., python -m speciesnet.scripts.run_model) and Python code\n",
        "\n",
        "As is often the case when you !pip install a library on Colab, you will likely have to run the first code cell (which just does \"!pip install speciesnet\"), then re-start your Colab runtime, then you should be able to run the whole notebook.\n"
      ]
    },
    {
      "cell_type": "markdown",
      "metadata": {
        "id": "3JZInNRgI8mB"
      },
      "source": [
        "## Imports\n"
      ]
    },
    {
      "cell_type": "code",
      "execution_count": null,
      "metadata": {
        "colab": {
          "base_uri": "https://localhost:8080/"
        },
        "id": "cKPRTw-6JBzB",
        "outputId": "8653fa3f-50a1-4ee5-e26d-00dfcb8aa401"
      },
      "outputs": [],
      "source": [
        "!pip install speciesnet"
      ]
    },
    {
      "cell_type": "code",
      "execution_count": null,
      "metadata": {
        "id": "t1WMf7U0I8mC"
      },
      "outputs": [],
      "source": [
        "from IPython.display import display\n",
        "from IPython.display import JSON\n",
        "\n",
        "# from speciesnet import DEFAULT_MODEL\n",
        "from speciesnet import draw_bboxes\n",
        "from speciesnet import load_rgb_image\n",
        "from speciesnet import SpeciesNet\n",
        "from speciesnet import SUPPORTED_MODELS"
      ]
    },
    {
      "cell_type": "code",
      "execution_count": null,
      "metadata": {
        "id": "rMCzI4Q6I8mC"
      },
      "outputs": [],
      "source": [
        "def print_predictions(predictions_dict: dict) -> None:\n",
        "    print(\"Predictions:\")\n",
        "    for prediction in predictions_dict[\"predictions\"]:\n",
        "        print(prediction[\"filepath\"], \"=>\", prediction[\"prediction\"])"
      ]
    },
    {
      "cell_type": "markdown",
      "metadata": {
        "id": "3ldLcjPPI8mC"
      },
      "source": [
        "## Download model"
      ]
    },
    {
      "cell_type": "code",
      "execution_count": null,
      "metadata": {
        "colab": {
          "base_uri": "https://localhost:8080/"
        },
        "id": "z9P21QY6I8mC",
        "outputId": "6d0adf07-98a4-4f55-f549-d8d69f66dbba"
      },
      "outputs": [],
      "source": [
        "import kagglehub\n",
        "import os\n",
        "import shutil\n",
        "\n",
        "# Choose the folder we're going to download to\n",
        "model_path = '/content/models'\n",
        "os.makedirs(model_path, exist_ok=True)\n",
        "\n",
        "# Download the model (it will go to a folder like /kaggle/input/...)\n",
        "download_path = kagglehub.model_download('google/speciesnet/PyTorch/v4.0.1a',\n",
        "                                          force_download=True)\n",
        "\n",
        "print('Model downloaded to temporary folder: {}'.format(download_path))\n",
        "\n",
        "# List the contents of the downloaded directory to identify the actual files/subdirectories\n",
        "model_files = os.listdir(download_path)\n",
        "\n",
        "# Copy the contents of the model file to our destination folder\n",
        "for item_name in model_files:\n",
        "    source_path = os.path.join(download_path, item_name)\n",
        "    destination_path = os.path.join(model_path, item_name)\n",
        "    if os.path.isfile(source_path):\n",
        "        shutil.copy2(source_path, destination_path)\n",
        "    elif os.path.isdir(source_path):\n",
        "        shutil.copytree(source_path, destination_path, dirs_exist_ok=True)\n",
        "\n",
        "print('{} files copied to: {}'.format(len(model_files),model_path))"
      ]
    },
    {
      "cell_type": "markdown",
      "metadata": {
        "id": "ksc-NnMyPBl-"
      },
      "source": [
        "## Download sample images"
      ]
    },
    {
      "cell_type": "code",
      "execution_count": null,
      "metadata": {
        "colab": {
          "base_uri": "https://localhost:8080/"
        },
        "id": "V0oR1MElOAxk",
        "outputId": "996b6e7a-3ff3-4b9e-d635-2007dbadbcba"
      },
      "outputs": [],
      "source": [
        "os.makedirs('/content/images',exist_ok=True)\n",
        "!wget \"https://github.com/google/cameratrapai/blob/main/test_data/african_elephants.jpg?raw=true\" -O \"/content/images/african_elephants.jpg\"\n",
        "!wget \"https://github.com/google/cameratrapai/blob/main/test_data/american_black_bear.jpg?raw=true\" -O \"/content/images/american_black_bear.jpg\""
      ]
    },
    {
      "cell_type": "markdown",
      "metadata": {
        "id": "YKgvCfJ-OhIk"
      },
      "source": [
        "## Run the model using the CLI"
      ]
    },
    {
      "cell_type": "code",
      "execution_count": null,
      "metadata": {
        "colab": {
          "base_uri": "https://localhost:8080/"
        },
        "id": "TsqxgwC2OgjV",
        "outputId": "edb3c0f2-0cf5-49b0-caea-2a7839a3ccbc"
      },
      "outputs": [],
      "source": [
        "!python -m speciesnet.scripts.run_model --folders '/content/images' --model $model_path --predictions_json '/content/predictions-ensemble.json'"
      ]
    },
    {
      "cell_type": "code",
      "execution_count": null,
      "metadata": {
        "colab": {
          "base_uri": "https://localhost:8080/"
        },
        "id": "HBqwv9lePGuY",
        "outputId": "9a3f51dc-90c4-4361-a8a9-7d07de3b7687"
      },
      "outputs": [],
      "source": [
        "# print the contents of the output json\n",
        "import json\n",
        "with open('/content/predictions-ensemble.json','r') as f:\n",
        "  d = json.load(f)\n",
        "print(str(d))\n"
      ]
    },
    {
      "cell_type": "markdown",
      "metadata": {
        "id": "jOkiaiKhI8mC"
      },
      "source": [
        "## Run the model using Python code"
      ]
    },
    {
      "cell_type": "code",
      "execution_count": null,
      "metadata": {
        "id": "IRZd6Ia6I8mC"
      },
      "outputs": [],
      "source": [
        "model = SpeciesNet(model_path)"
      ]
    },
    {
      "cell_type": "code",
      "execution_count": null,
      "metadata": {
        "colab": {
          "base_uri": "https://localhost:8080/",
          "height": 1000
        },
        "id": "jkaQMxwYI8mC",
        "outputId": "d849b26c-693a-4f53-94c3-95d9aa5897c0"
      },
      "outputs": [],
      "source": [
        "predictions_dict = model.predict(\n",
        "    instances_dict={\n",
        "        \"instances\": [\n",
        "            {\n",
        "                \"filepath\": \"/content/images/african_elephants.jpg\",\n",
        "                \"latitude\": -1.0,\n",
        "                \"longitude\": 35.0,\n",
        "            },\n",
        "            {\n",
        "                \"filepath\": \"/content/images/american_black_bear.jpg\",\n",
        "                \"country\": \"USA\",\n",
        "            },\n",
        "        ]\n",
        "    }\n",
        ")\n",
        "\n",
        "print_predictions(predictions_dict)\n",
        "display(JSON(predictions_dict))"
      ]
    },
    {
      "cell_type": "markdown",
      "metadata": {
        "id": "p-_KkDSjI8mC"
      },
      "source": [
        "## Display detections"
      ]
    },
    {
      "cell_type": "code",
      "execution_count": null,
      "metadata": {
        "colab": {
          "base_uri": "https://localhost:8080/",
          "height": 617
        },
        "id": "m44IjyOGI8mD",
        "outputId": "2ec68a77-0c37-4f34-f874-1d26196a934f"
      },
      "outputs": [],
      "source": [
        "first_prediction_item = predictions_dict[\"predictions\"][0]\n",
        "img = load_rgb_image(first_prediction_item[\"filepath\"])\n",
        "detections = first_prediction_item[\"detections\"]\n",
        "img.thumbnail(size=(800, 800))\n",
        "draw_bboxes(img, detections)"
      ]
    }
  ],
  "metadata": {
    "colab": {
      "include_colab_link": true,
      "provenance": []
    },
    "kernelspec": {
      "display_name": "wildnet-base",
      "language": "python",
      "name": "python3"
    },
    "language_info": {
      "codemirror_mode": {
        "name": "ipython",
        "version": 3
      },
      "file_extension": ".py",
      "mimetype": "text/x-python",
      "name": "python",
      "nbconvert_exporter": "python",
      "pygments_lexer": "ipython3",
      "version": "3.11.10"
    }
  },
  "nbformat": 4,
  "nbformat_minor": 0
}
